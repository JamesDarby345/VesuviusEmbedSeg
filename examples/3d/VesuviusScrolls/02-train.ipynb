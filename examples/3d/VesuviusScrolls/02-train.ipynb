{
 "cells": [
  {
   "cell_type": "code",
   "execution_count": 1,
   "metadata": {
    "metadata": {}
   },
   "outputs": [],
   "source": [
    "import sys\n",
    "sys.path.append('/home/james/Documents/VS/EmbedSegScrolls')\n",
    "import numpy as np\n",
    "import os\n",
    "import torch\n",
    "from EmbedSeg.train import begin_training\n",
    "from EmbedSeg.utils.create_dicts import create_dataset_dict, create_model_dict, create_loss_dict, create_configs\n",
    "from matplotlib.colors import ListedColormap\n",
    "import json"
   ]
  },
  {
   "cell_type": "markdown",
   "metadata": {},
   "source": [
    "### Specify the path to `train`, `val` crops and the type of `center` embedding which we would like to train the network for:"
   ]
  },
  {
   "cell_type": "markdown",
   "metadata": {},
   "source": [
    "The train-val images, masks and center-images will be accessed from the path specified by `data_dir` and `project-name`.\n",
    "<a id='center'></a>"
   ]
  },
  {
   "cell_type": "code",
   "execution_count": 2,
   "metadata": {
    "metadata": {}
   },
   "outputs": [
    {
     "name": "stdout",
     "output_type": "stream",
     "text": [
      "Project Name chosen as : Vesuvius. \n",
      "Train-Val images-masks-center-images will be accessed from : crops\n"
     ]
    }
   ],
   "source": [
    "data_dir = 'crops'\n",
    "project_name = 'Vesuvius'\n",
    "center = 'approximate-medoid' # 'centroid', 'medoid'\n",
    "\n",
    "print(\"Project Name chosen as : {}. \\nTrain-Val images-masks-center-images will be accessed from : {}\".format(project_name, data_dir))"
   ]
  },
  {
   "cell_type": "code",
   "execution_count": 3,
   "metadata": {
    "metadata": {}
   },
   "outputs": [
    {
     "name": "stdout",
     "output_type": "stream",
     "text": [
      "Spatial Embedding Location chosen as : approximate-medoid\n"
     ]
    }
   ],
   "source": [
    "try:\n",
    "    assert center in {'medoid', 'centroid', 'approximate-medoid'}\n",
    "    print(\"Spatial Embedding Location chosen as : {}\".format(center))\n",
    "except AssertionError as e:\n",
    "    e.args += ('Please specify center as one of : {\"medoid\", \"centroid\"}', 42)\n",
    "    raise"
   ]
  },
  {
   "cell_type": "markdown",
   "metadata": {},
   "source": [
    "### Obtain properties of the dataset "
   ]
  },
  {
   "cell_type": "markdown",
   "metadata": {},
   "source": [
    "Here, we read the `dataset.json` file prepared in the `01-data` notebook previously."
   ]
  },
  {
   "cell_type": "code",
   "execution_count": 4,
   "metadata": {
    "metadata": {}
   },
   "outputs": [],
   "source": [
    "if os.path.isfile('data_properties.json'): \n",
    "    with open('data_properties.json') as json_file:\n",
    "        data = json.load(json_file)\n",
    "        data_type, foreground_weight, n_z, n_y, n_x, pixel_size_z_microns, pixel_size_x_microns = data['data_type'], float(data['foreground_weight']), int(data['n_z']), int(data['n_y']), int(data['n_x']), float(data['pixel_size_z_microns']), float(data['pixel_size_x_microns'])"
   ]
  },
  {
   "cell_type": "markdown",
   "metadata": {},
   "source": [
    "### Specify training dataset-related parameters"
   ]
  },
  {
   "cell_type": "markdown",
   "metadata": {},
   "source": [
    "Some hints: \n",
    "* The `train_size` attribute indicates the number of image-mask paired examples which the network would see in one complete epoch. Ideally this should be the number of `train` image crops. \n",
    "\n",
    "In the cell after this one, a `train_dataset_dict` dictionary is generated from the parameters specified here!"
   ]
  },
  {
   "cell_type": "code",
   "execution_count": 5,
   "metadata": {
    "metadata": {}
   },
   "outputs": [
    {
     "name": "stdout",
     "output_type": "stream",
     "text": [
      "Train size : 13\n"
     ]
    }
   ],
   "source": [
    "train_size = len(os.listdir(os.path.join(data_dir, project_name, 'train', 'images')))\n",
    "print(\"Train size : {}\".format(train_size))\n",
    "train_batch_size = 1"
   ]
  },
  {
   "cell_type": "markdown",
   "metadata": {},
   "source": [
    "### Create the `train_dataset_dict` dictionary  "
   ]
  },
  {
   "cell_type": "code",
   "execution_count": 6,
   "metadata": {
    "metadata": {}
   },
   "outputs": [
    {
     "name": "stdout",
     "output_type": "stream",
     "text": [
      "`train_dataset_dict` dictionary successfully created                 with: \n",
      " -- train images accessed from crops/Vesuvius/train/images, \n",
      " -- number of images per epoch equal to 13, \n",
      " -- batch size set at 1, \n",
      "Train Dataset Dict : {'name': '3d', 'kwargs': {'center': 'center-approximate-medoid', 'data_dir': 'crops/Vesuvius', 'type': 'train', 'size': 13, 'transform': Compose(\n",
      "    RandomRotationsAndFlips_3d(degrees=[-90.0, 90.0], interpolation=nearest, expand=False, fill=0)\n",
      "    <EmbedSeg.utils.transforms.ToTensorFromNumpy object at 0x7296805a2690>\n",
      "), 'one_hot': False}, 'batch_size': 1, 'virtual_batch_multiplier': 8, 'workers': 8}\n"
     ]
    }
   ],
   "source": [
    "train_dataset_dict = create_dataset_dict(data_dir = data_dir, \n",
    "                                         project_name = project_name,  \n",
    "                                         center = center, \n",
    "                                         size = train_size, \n",
    "                                         batch_size = train_batch_size, \n",
    "                                         type = 'train',\n",
    "                                         name = '3d',\n",
    "                                         workers=8,\n",
    "                                         virtual_batch_multiplier=8)\n",
    "print(\"Train Dataset Dict : {}\".format(train_dataset_dict))"
   ]
  },
  {
   "cell_type": "markdown",
   "metadata": {},
   "source": [
    "### Specify validation dataset-related parameters"
   ]
  },
  {
   "cell_type": "markdown",
   "metadata": {},
   "source": [
    "Some hints:\n",
    "* The size attribute indicates the number of image-mask paired examples which the network would see in one complete epoch. Here, it is recommended to set `val_size` equal to the total number of validation image crops.\n",
    "\n",
    "In the cell after this one, a `val_dataset_dict` dictionary is generated from the parameters specified here!"
   ]
  },
  {
   "cell_type": "code",
   "execution_count": 7,
   "metadata": {
    "metadata": {}
   },
   "outputs": [],
   "source": [
    "val_size = len(os.listdir(os.path.join(data_dir, project_name, 'val', 'images')))\n",
    "val_batch_size = 1"
   ]
  },
  {
   "cell_type": "markdown",
   "metadata": {},
   "source": [
    "### Create the `val_dataset_dict` dictionary"
   ]
  },
  {
   "cell_type": "code",
   "execution_count": 8,
   "metadata": {
    "metadata": {}
   },
   "outputs": [
    {
     "name": "stdout",
     "output_type": "stream",
     "text": [
      "`val_dataset_dict` dictionary successfully created                 with: \n",
      " -- val images accessed from crops/Vesuvius/val/images, \n",
      " -- number of images per epoch equal to 13, \n",
      " -- batch size set at 1, \n"
     ]
    }
   ],
   "source": [
    "val_dataset_dict = create_dataset_dict(data_dir = data_dir, \n",
    "                                       project_name = project_name, \n",
    "                                       center = center, \n",
    "                                       size = val_size, \n",
    "                                       batch_size = val_batch_size, \n",
    "                                       type ='val',\n",
    "                                       name ='3d',\n",
    "                                       workers=8,\n",
    "                                       virtual_batch_multiplier=1)"
   ]
  },
  {
   "cell_type": "markdown",
   "metadata": {},
   "source": [
    "### Specify model-related parameters"
   ]
  },
  {
   "cell_type": "markdown",
   "metadata": {},
   "source": [
    "Some hints:\n",
    "* Set the `input_channels` attribute equal to the number of channels in the input images. \n",
    "* Set the `num_classes = [6, 1]` for `3d` training and `num_classes = [4, 1]` for `2d` training\n",
    "<br>(here, 6 implies the offsets and bandwidths in x, y and z dimensions and 1 implies the `seediness` value per pixel)\n",
    "\n",
    "In the cell after this one, a `model_dataset_dict` dictionary is generated from the parameters specified here!"
   ]
  },
  {
   "cell_type": "code",
   "execution_count": 9,
   "metadata": {
    "metadata": {}
   },
   "outputs": [],
   "source": [
    "input_channels = 1\n",
    "num_classes = [6, 1] "
   ]
  },
  {
   "cell_type": "markdown",
   "metadata": {},
   "source": [
    "### Create the `model_dict` dictionary"
   ]
  },
  {
   "cell_type": "code",
   "execution_count": 10,
   "metadata": {
    "metadata": {}
   },
   "outputs": [
    {
     "name": "stdout",
     "output_type": "stream",
     "text": [
      "`model_dict` dictionary successfully created                 with: \n",
      " -- num of classes equal to 1, \n",
      " -- input channels                 equal to [6, 1], \n",
      " -- name equal to branched_erfnet_3d\n"
     ]
    }
   ],
   "source": [
    "model_dict = create_model_dict(input_channels = input_channels,\n",
    "                              num_classes = num_classes,\n",
    "                              name = '3d')"
   ]
  },
  {
   "cell_type": "markdown",
   "metadata": {},
   "source": [
    "### Create the `loss_dict` dictionary"
   ]
  },
  {
   "cell_type": "code",
   "execution_count": 11,
   "metadata": {
    "metadata": {}
   },
   "outputs": [
    {
     "name": "stdout",
     "output_type": "stream",
     "text": [
      "`loss_dict` dictionary successfully created                 with: \n",
      " -- foreground weight equal to 1.112, \n",
      " -- w_inst                 equal to 1, \n",
      " -- w_var                 equal to 10, \n",
      " -- w_seed equal to 1\n"
     ]
    }
   ],
   "source": [
    "loss_dict = create_loss_dict(n_sigma = 3, foreground_weight = foreground_weight)"
   ]
  },
  {
   "cell_type": "markdown",
   "metadata": {},
   "source": [
    "### Specify additional parameters "
   ]
  },
  {
   "cell_type": "markdown",
   "metadata": {},
   "source": [
    "Some hints:\n",
    "* The `n_epochs` attribute determines how long the training should proceed. In general for reasonable results, you should atleast train for longer than 50 epochs.\n",
    "* The `save_dir` attribute identifies the location where the checkpoints and loss curve details are saved. \n",
    "* If one wishes to **resume training** from a previous checkpoint, they could point `resume_path` attribute appropriately. For example, one could set `resume_path = './experiment/Mouse-Organoid-Cells-CBG-demo/checkpoint.pth'` to resume training from the last checkpoint.\n"
   ]
  },
  {
   "cell_type": "code",
   "execution_count": 12,
   "metadata": {
    "metadata": {}
   },
   "outputs": [],
   "source": [
    "n_epochs = 200 #crashes after 200 epochs for some reason\n",
    "save_dir = os.path.join('experiment', project_name+'-'+'demo')\n",
    "resume_path  = None#\"/home/james/Documents/VS/EmbedSegScrolls/examples/3d/VesuviusScrolls/experiment/Vesuvius-demo/180_checkpoint.pth\""
   ]
  },
  {
   "cell_type": "markdown",
   "metadata": {},
   "source": [
    "In the cell after this one, a `configs` dictionary is generated from the parameters specified here!\n",
    "<a id='resume'></a>"
   ]
  },
  {
   "cell_type": "markdown",
   "metadata": {},
   "source": [
    "### Create the  `configs` dictionary "
   ]
  },
  {
   "cell_type": "code",
   "execution_count": 13,
   "metadata": {
    "metadata": {}
   },
   "outputs": [
    {
     "name": "stdout",
     "output_type": "stream",
     "text": [
      "`configs` dictionary successfully created with: \n",
      " -- n_epochs equal to 500, \n",
      " -- save_dir equal to experiment/Vesuvius-demo, \n",
      " -- n_z equal to 256, \n",
      " -- n_y equal to 256, \n",
      " -- n_x equal to 256, \n"
     ]
    }
   ],
   "source": [
    "configs = create_configs(n_epochs = n_epochs,\n",
    "                         resume_path = resume_path, \n",
    "                         save_dir = save_dir, \n",
    "                         n_z = n_z,\n",
    "                         n_y = n_y, \n",
    "                         n_x = n_x,\n",
    "                         anisotropy_factor = pixel_size_z_microns/pixel_size_x_microns, \n",
    "                         train_lr=5e-3,\n",
    "                         save_checkpoint_frequency=20\n",
    "                         )"
   ]
  },
  {
   "cell_type": "code",
   "execution_count": 14,
   "metadata": {
    "metadata": {}
   },
   "outputs": [
    {
     "name": "stdout",
     "output_type": "stream",
     "text": [
      "True\n",
      "12.1\n"
     ]
    }
   ],
   "source": [
    "import torch\n",
    "\n",
    "print(torch.cuda.is_available())  # Checks if CUDA is available on your system\n",
    "print(torch.version.cuda)         # Shows the CUDA version PyTorch was built with\n"
   ]
  },
  {
   "cell_type": "markdown",
   "metadata": {},
   "source": [
    "### Begin training!"
   ]
  },
  {
   "cell_type": "markdown",
   "metadata": {},
   "source": [
    "Executing the next cell would begin the training. "
   ]
  },
  {
   "cell_type": "code",
   "execution_count": 15,
   "metadata": {
    "metadata": {}
   },
   "outputs": [
    {
     "name": "stdout",
     "output_type": "stream",
     "text": [
      "3-D `train` dataloader created! Accessing data from crops/Vesuvius/train/\n",
      "Number of images in `train` directory is 13\n",
      "Number of instances in `train` directory is 13\n",
      "Number of center images in `train` directory is 13\n",
      "*************************\n",
      "train_dataset: torch.float16\n",
      "3-D `val` dataloader created! Accessing data from crops/Vesuvius/val/\n",
      "Number of images in `val` directory is 13\n",
      "Number of instances in `val` directory is 13\n",
      "Number of center images in `val` directory is 13\n",
      "*************************\n",
      "Creating Branched Erfnet 3D with [6, 1] outputs\n",
      "initialize last layer with size:  torch.Size([16, 6, 2, 2, 2])\n",
      "Created spatial emb loss function with:                     n_sigma: 3, foreground_weight: 1.1116606927043988\n",
      "*************************\n",
      "Created logger with keys:  ('train', 'val', 'iou')\n",
      "Starting epoch 0\n",
      "learning rate: 0.005\n"
     ]
    },
    {
     "name": "stderr",
     "output_type": "stream",
     "text": [
      "100%|██████████| 13/13 [00:07<00:00,  1.73it/s]\n",
      "100%|██████████| 13/13 [00:03<00:00,  4.12it/s]\n"
     ]
    },
    {
     "name": "stdout",
     "output_type": "stream",
     "text": [
      "===> train loss: 2.30\n",
      "===> val loss: 2.29, val iou: 0.00\n",
      "=> saving checkpoint\n",
      "Starting epoch 1\n",
      "learning rate: 0.004977494364660345\n"
     ]
    },
    {
     "name": "stderr",
     "output_type": "stream",
     "text": [
      "100%|██████████| 13/13 [00:05<00:00,  2.29it/s]\n",
      "100%|██████████| 13/13 [00:03<00:00,  4.25it/s]\n"
     ]
    },
    {
     "name": "stdout",
     "output_type": "stream",
     "text": [
      "===> train loss: 2.30\n",
      "===> val loss: 2.29, val iou: 0.00\n",
      "=> saving checkpoint\n",
      "Starting epoch 2\n",
      "learning rate: 0.004954977417064171\n"
     ]
    },
    {
     "name": "stderr",
     "output_type": "stream",
     "text": [
      "100%|██████████| 13/13 [00:05<00:00,  2.31it/s]\n",
      "100%|██████████| 13/13 [00:03<00:00,  4.22it/s]\n"
     ]
    },
    {
     "name": "stdout",
     "output_type": "stream",
     "text": [
      "===> train loss: 2.29\n",
      "===> val loss: 2.29, val iou: 0.00\n",
      "=> saving checkpoint\n",
      "Starting epoch 3\n",
      "learning rate: 0.004932449094349201\n"
     ]
    },
    {
     "name": "stderr",
     "output_type": "stream",
     "text": [
      "100%|██████████| 13/13 [00:05<00:00,  2.26it/s]\n",
      "100%|██████████| 13/13 [00:03<00:00,  4.24it/s]\n"
     ]
    },
    {
     "name": "stdout",
     "output_type": "stream",
     "text": [
      "===> train loss: 2.29\n",
      "===> val loss: 2.28, val iou: 0.00\n",
      "=> saving checkpoint\n",
      "Starting epoch 4\n",
      "learning rate: 0.004909909332982876\n"
     ]
    },
    {
     "name": "stderr",
     "output_type": "stream",
     "text": [
      "100%|██████████| 13/13 [00:05<00:00,  2.29it/s]\n",
      "100%|██████████| 13/13 [00:03<00:00,  4.22it/s]\n"
     ]
    },
    {
     "name": "stdout",
     "output_type": "stream",
     "text": [
      "===> train loss: 2.28\n",
      "===> val loss: 2.28, val iou: 0.00\n",
      "=> saving checkpoint\n",
      "Starting epoch 5\n",
      "learning rate: 0.004887358068751748\n"
     ]
    },
    {
     "name": "stderr",
     "output_type": "stream",
     "text": [
      "100%|██████████| 13/13 [00:05<00:00,  2.29it/s]\n",
      "100%|██████████| 13/13 [00:03<00:00,  4.23it/s]\n"
     ]
    },
    {
     "name": "stdout",
     "output_type": "stream",
     "text": [
      "===> train loss: 2.28\n",
      "===> val loss: 2.28, val iou: 0.00\n",
      "=> saving checkpoint\n",
      "Starting epoch 6\n",
      "learning rate: 0.004864795236750653\n"
     ]
    },
    {
     "name": "stderr",
     "output_type": "stream",
     "text": [
      "100%|██████████| 13/13 [00:05<00:00,  2.27it/s]\n",
      "100%|██████████| 13/13 [00:03<00:00,  4.15it/s]\n"
     ]
    },
    {
     "name": "stdout",
     "output_type": "stream",
     "text": [
      "===> train loss: 2.28\n",
      "===> val loss: 2.28, val iou: 0.00\n",
      "=> saving checkpoint\n",
      "Starting epoch 7\n",
      "learning rate: 0.004842220771371654\n"
     ]
    },
    {
     "name": "stderr",
     "output_type": "stream",
     "text": [
      "100%|██████████| 13/13 [00:05<00:00,  2.29it/s]\n",
      "100%|██████████| 13/13 [00:03<00:00,  4.31it/s]\n"
     ]
    },
    {
     "name": "stdout",
     "output_type": "stream",
     "text": [
      "===> train loss: 2.28\n",
      "===> val loss: 2.28, val iou: 0.00\n",
      "=> saving checkpoint\n",
      "Starting epoch 8\n",
      "learning rate: 0.0048196346062927544\n"
     ]
    },
    {
     "name": "stderr",
     "output_type": "stream",
     "text": [
      "100%|██████████| 13/13 [00:05<00:00,  2.31it/s]\n",
      "100%|██████████| 13/13 [00:03<00:00,  4.23it/s]\n"
     ]
    },
    {
     "name": "stdout",
     "output_type": "stream",
     "text": [
      "===> train loss: 2.28\n",
      "===> val loss: 2.28, val iou: 0.00\n",
      "=> saving checkpoint\n",
      "Starting epoch 9\n",
      "learning rate: 0.00479703667446636\n"
     ]
    },
    {
     "name": "stderr",
     "output_type": "stream",
     "text": [
      "100%|██████████| 13/13 [00:05<00:00,  2.31it/s]\n",
      "100%|██████████| 13/13 [00:03<00:00,  4.24it/s]\n"
     ]
    },
    {
     "name": "stdout",
     "output_type": "stream",
     "text": [
      "===> train loss: 2.27\n",
      "===> val loss: 2.28, val iou: 0.00\n",
      "=> saving checkpoint\n",
      "Starting epoch 10\n",
      "learning rate: 0.004774426908107499\n"
     ]
    },
    {
     "name": "stderr",
     "output_type": "stream",
     "text": [
      "100%|██████████| 13/13 [00:05<00:00,  2.32it/s]\n",
      "100%|██████████| 13/13 [00:03<00:00,  4.11it/s]\n"
     ]
    },
    {
     "name": "stdout",
     "output_type": "stream",
     "text": [
      "===> train loss: 2.27\n",
      "===> val loss: 2.28, val iou: 0.00\n",
      "=> saving checkpoint\n",
      "Starting epoch 11\n",
      "learning rate: 0.0047518052386817935\n"
     ]
    },
    {
     "name": "stderr",
     "output_type": "stream",
     "text": [
      "100%|██████████| 13/13 [00:05<00:00,  2.30it/s]\n",
      "100%|██████████| 13/13 [00:03<00:00,  4.21it/s]\n"
     ]
    },
    {
     "name": "stdout",
     "output_type": "stream",
     "text": [
      "===> train loss: 2.27\n",
      "===> val loss: 2.27, val iou: 0.00\n",
      "=> saving checkpoint\n",
      "Starting epoch 12\n",
      "learning rate: 0.004729171596893161\n"
     ]
    },
    {
     "name": "stderr",
     "output_type": "stream",
     "text": [
      "100%|██████████| 13/13 [00:05<00:00,  2.29it/s]\n",
      "100%|██████████| 13/13 [00:03<00:00,  4.12it/s]\n"
     ]
    },
    {
     "name": "stdout",
     "output_type": "stream",
     "text": [
      "===> train loss: 2.27\n",
      "===> val loss: 2.27, val iou: 0.00\n",
      "=> saving checkpoint\n",
      "Starting epoch 13\n",
      "learning rate: 0.0047065259126712455\n"
     ]
    },
    {
     "name": "stderr",
     "output_type": "stream",
     "text": [
      "100%|██████████| 13/13 [00:05<00:00,  2.32it/s]\n",
      "100%|██████████| 13/13 [00:03<00:00,  4.16it/s]\n"
     ]
    },
    {
     "name": "stdout",
     "output_type": "stream",
     "text": [
      "===> train loss: 2.27\n",
      "===> val loss: 2.27, val iou: 0.00\n",
      "=> saving checkpoint\n",
      "Starting epoch 14\n",
      "learning rate: 0.004683868115158587\n"
     ]
    },
    {
     "name": "stderr",
     "output_type": "stream",
     "text": [
      "100%|██████████| 13/13 [00:05<00:00,  2.30it/s]\n",
      "100%|██████████| 13/13 [00:03<00:00,  4.16it/s]\n"
     ]
    },
    {
     "name": "stdout",
     "output_type": "stream",
     "text": [
      "===> train loss: 2.27\n",
      "===> val loss: 2.27, val iou: 0.00\n",
      "=> saving checkpoint\n",
      "Starting epoch 15\n",
      "learning rate: 0.004661198132697498\n"
     ]
    },
    {
     "name": "stderr",
     "output_type": "stream",
     "text": [
      "100%|██████████| 13/13 [00:05<00:00,  2.26it/s]\n",
      "100%|██████████| 13/13 [00:03<00:00,  4.24it/s]\n"
     ]
    },
    {
     "name": "stdout",
     "output_type": "stream",
     "text": [
      "===> train loss: 2.26\n",
      "===> val loss: 2.27, val iou: 0.00\n",
      "=> saving checkpoint\n",
      "Starting epoch 16\n",
      "learning rate: 0.004638515892816641\n"
     ]
    },
    {
     "name": "stderr",
     "output_type": "stream",
     "text": [
      "100%|██████████| 13/13 [00:05<00:00,  2.26it/s]\n",
      "100%|██████████| 13/13 [00:03<00:00,  4.13it/s]\n"
     ]
    },
    {
     "name": "stdout",
     "output_type": "stream",
     "text": [
      "===> train loss: 2.26\n",
      "===> val loss: 2.26, val iou: 0.00\n",
      "=> saving checkpoint\n",
      "Starting epoch 17\n",
      "learning rate: 0.004615821322217328\n"
     ]
    },
    {
     "name": "stderr",
     "output_type": "stream",
     "text": [
      "100%|██████████| 13/13 [00:05<00:00,  2.31it/s]\n",
      "100%|██████████| 13/13 [00:03<00:00,  4.14it/s]\n"
     ]
    },
    {
     "name": "stdout",
     "output_type": "stream",
     "text": [
      "===> train loss: 2.26\n",
      "===> val loss: 2.26, val iou: 0.00\n",
      "=> saving checkpoint\n",
      "Starting epoch 18\n",
      "learning rate: 0.0045931143467594976\n"
     ]
    },
    {
     "name": "stderr",
     "output_type": "stream",
     "text": [
      "100%|██████████| 13/13 [00:05<00:00,  2.30it/s]\n",
      "100%|██████████| 13/13 [00:03<00:00,  4.20it/s]\n"
     ]
    },
    {
     "name": "stdout",
     "output_type": "stream",
     "text": [
      "===> train loss: 2.26\n",
      "===> val loss: 2.26, val iou: 0.00\n",
      "=> saving checkpoint\n",
      "Starting epoch 19\n",
      "learning rate: 0.004570394891447373\n"
     ]
    },
    {
     "name": "stderr",
     "output_type": "stream",
     "text": [
      "100%|██████████| 13/13 [00:05<00:00,  2.28it/s]\n",
      "100%|██████████| 13/13 [00:03<00:00,  4.32it/s]\n"
     ]
    },
    {
     "name": "stdout",
     "output_type": "stream",
     "text": [
      "===> train loss: 2.26\n",
      "===> val loss: 2.26, val iou: 0.00\n",
      "=> saving checkpoint\n",
      "Starting epoch 20\n",
      "learning rate: 0.004547662880414811\n"
     ]
    },
    {
     "name": "stderr",
     "output_type": "stream",
     "text": [
      "100%|██████████| 13/13 [00:05<00:00,  2.29it/s]\n",
      "100%|██████████| 13/13 [00:03<00:00,  4.27it/s]\n"
     ]
    },
    {
     "name": "stdout",
     "output_type": "stream",
     "text": [
      "===> train loss: 2.26\n",
      "===> val loss: 2.26, val iou: 0.00\n",
      "=> saving checkpoint\n",
      "Starting epoch 21\n",
      "learning rate: 0.004524918236910306\n"
     ]
    },
    {
     "name": "stderr",
     "output_type": "stream",
     "text": [
      "100%|██████████| 13/13 [00:05<00:00,  2.29it/s]\n",
      "100%|██████████| 13/13 [00:03<00:00,  4.29it/s]\n"
     ]
    },
    {
     "name": "stdout",
     "output_type": "stream",
     "text": [
      "===> train loss: 2.26\n",
      "===> val loss: 2.25, val iou: 0.00\n",
      "=> saving checkpoint\n",
      "Starting epoch 22\n",
      "learning rate: 0.004502160883281645\n"
     ]
    },
    {
     "name": "stderr",
     "output_type": "stream",
     "text": [
      "100%|██████████| 13/13 [00:05<00:00,  2.27it/s]\n",
      "100%|██████████| 13/13 [00:03<00:00,  4.23it/s]\n"
     ]
    },
    {
     "name": "stdout",
     "output_type": "stream",
     "text": [
      "===> train loss: 2.26\n",
      "===> val loss: 2.25, val iou: 0.00\n",
      "=> saving checkpoint\n",
      "Starting epoch 23\n",
      "learning rate: 0.004479390740960227\n"
     ]
    },
    {
     "name": "stderr",
     "output_type": "stream",
     "text": [
      "100%|██████████| 13/13 [00:05<00:00,  2.28it/s]\n",
      "100%|██████████| 13/13 [00:03<00:00,  4.11it/s]\n"
     ]
    },
    {
     "name": "stdout",
     "output_type": "stream",
     "text": [
      "===> train loss: 2.25\n",
      "===> val loss: 2.25, val iou: 0.00\n",
      "=> saving checkpoint\n",
      "Starting epoch 24\n",
      "learning rate: 0.004456607730445\n"
     ]
    },
    {
     "name": "stderr",
     "output_type": "stream",
     "text": [
      "100%|██████████| 13/13 [00:05<00:00,  2.31it/s]\n",
      "100%|██████████| 13/13 [00:03<00:00,  4.21it/s]\n"
     ]
    },
    {
     "name": "stdout",
     "output_type": "stream",
     "text": [
      "===> train loss: 2.25\n",
      "===> val loss: 2.25, val iou: 0.00\n",
      "=> saving checkpoint\n",
      "Starting epoch 25\n",
      "learning rate: 0.004433811771286037\n"
     ]
    },
    {
     "name": "stderr",
     "output_type": "stream",
     "text": [
      "100%|██████████| 13/13 [00:05<00:00,  2.27it/s]\n",
      "100%|██████████| 13/13 [00:03<00:00,  4.09it/s]\n"
     ]
    },
    {
     "name": "stdout",
     "output_type": "stream",
     "text": [
      "===> train loss: 2.25\n",
      "===> val loss: 2.25, val iou: 0.00\n",
      "=> saving checkpoint\n",
      "Starting epoch 26\n",
      "learning rate: 0.004411002782067719\n"
     ]
    },
    {
     "name": "stderr",
     "output_type": "stream",
     "text": [
      "100%|██████████| 13/13 [00:05<00:00,  2.25it/s]\n",
      "100%|██████████| 13/13 [00:03<00:00,  4.31it/s]\n"
     ]
    },
    {
     "name": "stdout",
     "output_type": "stream",
     "text": [
      "===> train loss: 2.25\n",
      "===> val loss: 2.25, val iou: 0.00\n",
      "=> saving checkpoint\n",
      "Starting epoch 27\n",
      "learning rate: 0.00438818068039153\n"
     ]
    },
    {
     "name": "stderr",
     "output_type": "stream",
     "text": [
      "100%|██████████| 13/13 [00:05<00:00,  2.29it/s]\n",
      "100%|██████████| 13/13 [00:03<00:00,  4.06it/s]\n"
     ]
    },
    {
     "name": "stdout",
     "output_type": "stream",
     "text": [
      "===> train loss: 2.25\n",
      "===> val loss: 2.25, val iou: 0.00\n",
      "=> saving checkpoint\n",
      "Starting epoch 28\n",
      "learning rate: 0.00436534538285843\n"
     ]
    },
    {
     "name": "stderr",
     "output_type": "stream",
     "text": [
      "100%|██████████| 13/13 [00:05<00:00,  2.29it/s]\n",
      "100%|██████████| 13/13 [00:03<00:00,  4.14it/s]\n"
     ]
    },
    {
     "name": "stdout",
     "output_type": "stream",
     "text": [
      "===> train loss: 2.25\n",
      "===> val loss: 2.25, val iou: 0.00\n",
      "=> saving checkpoint\n",
      "Starting epoch 29\n",
      "learning rate: 0.004342496805050826\n"
     ]
    },
    {
     "name": "stderr",
     "output_type": "stream",
     "text": [
      "100%|██████████| 13/13 [00:05<00:00,  2.27it/s]\n",
      "100%|██████████| 13/13 [00:03<00:00,  4.14it/s]\n"
     ]
    },
    {
     "name": "stdout",
     "output_type": "stream",
     "text": [
      "===> train loss: 2.25\n",
      "===> val loss: 2.25, val iou: 0.00\n",
      "=> saving checkpoint\n",
      "Starting epoch 30\n",
      "learning rate: 0.0043196348615140955\n"
     ]
    },
    {
     "name": "stderr",
     "output_type": "stream",
     "text": [
      "100%|██████████| 13/13 [00:05<00:00,  2.31it/s]\n",
      "100%|██████████| 13/13 [00:03<00:00,  4.28it/s]\n"
     ]
    },
    {
     "name": "stdout",
     "output_type": "stream",
     "text": [
      "===> train loss: 2.25\n",
      "===> val loss: 2.25, val iou: 0.00\n",
      "=> saving checkpoint\n",
      "Starting epoch 31\n",
      "learning rate: 0.004296759465737673\n"
     ]
    },
    {
     "name": "stderr",
     "output_type": "stream",
     "text": [
      "100%|██████████| 13/13 [00:05<00:00,  2.29it/s]\n",
      "100%|██████████| 13/13 [00:03<00:00,  4.12it/s]\n"
     ]
    },
    {
     "name": "stdout",
     "output_type": "stream",
     "text": [
      "===> train loss: 2.25\n",
      "===> val loss: 2.24, val iou: 0.00\n",
      "=> saving checkpoint\n",
      "Starting epoch 32\n",
      "learning rate: 0.004273870530135671\n"
     ]
    },
    {
     "name": "stderr",
     "output_type": "stream",
     "text": [
      "100%|██████████| 13/13 [00:05<00:00,  2.29it/s]\n",
      "100%|██████████| 13/13 [00:03<00:00,  4.16it/s]\n"
     ]
    },
    {
     "name": "stdout",
     "output_type": "stream",
     "text": [
      "===> train loss: 2.24\n",
      "===> val loss: 2.24, val iou: 0.00\n",
      "=> saving checkpoint\n",
      "Starting epoch 33\n",
      "learning rate: 0.004250967966027037\n"
     ]
    },
    {
     "name": "stderr",
     "output_type": "stream",
     "text": [
      "100%|██████████| 13/13 [00:05<00:00,  2.26it/s]\n",
      "100%|██████████| 13/13 [00:03<00:00,  4.19it/s]\n"
     ]
    },
    {
     "name": "stdout",
     "output_type": "stream",
     "text": [
      "===> train loss: 2.24\n",
      "===> val loss: 2.24, val iou: 0.00\n",
      "=> saving checkpoint\n",
      "Starting epoch 34\n",
      "learning rate: 0.00422805168361521\n"
     ]
    },
    {
     "name": "stderr",
     "output_type": "stream",
     "text": [
      "100%|██████████| 13/13 [00:05<00:00,  2.29it/s]\n",
      "100%|██████████| 13/13 [00:03<00:00,  4.29it/s]\n"
     ]
    },
    {
     "name": "stdout",
     "output_type": "stream",
     "text": [
      "===> train loss: 2.24\n",
      "===> val loss: 2.24, val iou: 0.00\n",
      "=> saving checkpoint\n",
      "Starting epoch 35\n",
      "learning rate: 0.004205121591967288\n"
     ]
    },
    {
     "name": "stderr",
     "output_type": "stream",
     "text": [
      "100%|██████████| 13/13 [00:05<00:00,  2.27it/s]\n",
      "100%|██████████| 13/13 [00:03<00:00,  4.10it/s]\n"
     ]
    },
    {
     "name": "stdout",
     "output_type": "stream",
     "text": [
      "===> train loss: 2.24\n",
      "===> val loss: 2.24, val iou: 0.00\n",
      "=> saving checkpoint\n",
      "Starting epoch 36\n",
      "learning rate: 0.004182177598992669\n"
     ]
    },
    {
     "name": "stderr",
     "output_type": "stream",
     "text": [
      "100%|██████████| 13/13 [00:05<00:00,  2.27it/s]\n",
      "100%|██████████| 13/13 [00:03<00:00,  4.13it/s]\n"
     ]
    },
    {
     "name": "stdout",
     "output_type": "stream",
     "text": [
      "===> train loss: 2.24\n",
      "===> val loss: 2.24, val iou: 0.00\n",
      "=> saving checkpoint\n",
      "Starting epoch 37\n",
      "learning rate: 0.004159219611421163\n"
     ]
    },
    {
     "name": "stderr",
     "output_type": "stream",
     "text": [
      "100%|██████████| 13/13 [00:05<00:00,  2.28it/s]\n",
      "100%|██████████| 13/13 [00:03<00:00,  4.15it/s]\n"
     ]
    },
    {
     "name": "stdout",
     "output_type": "stream",
     "text": [
      "===> train loss: 2.24\n",
      "===> val loss: 2.24, val iou: 0.00\n",
      "=> saving checkpoint\n",
      "Starting epoch 38\n",
      "learning rate: 0.004136247534780547\n"
     ]
    },
    {
     "name": "stderr",
     "output_type": "stream",
     "text": [
      "100%|██████████| 13/13 [00:05<00:00,  2.32it/s]\n",
      "100%|██████████| 13/13 [00:03<00:00,  4.26it/s]\n"
     ]
    },
    {
     "name": "stdout",
     "output_type": "stream",
     "text": [
      "===> train loss: 2.24\n",
      "===> val loss: 2.24, val iou: 0.00\n",
      "=> saving checkpoint\n",
      "Starting epoch 39\n",
      "learning rate: 0.004113261273373556\n"
     ]
    },
    {
     "name": "stderr",
     "output_type": "stream",
     "text": [
      "100%|██████████| 13/13 [00:05<00:00,  2.31it/s]\n",
      "100%|██████████| 13/13 [00:03<00:00,  4.14it/s]\n"
     ]
    },
    {
     "name": "stdout",
     "output_type": "stream",
     "text": [
      "===> train loss: 2.24\n",
      "===> val loss: 2.24, val iou: 0.00\n",
      "=> saving checkpoint\n",
      "Starting epoch 40\n",
      "learning rate: 0.004090260730254292\n"
     ]
    },
    {
     "name": "stderr",
     "output_type": "stream",
     "text": [
      "100%|██████████| 13/13 [00:05<00:00,  2.32it/s]\n",
      "100%|██████████| 13/13 [00:03<00:00,  4.16it/s]\n"
     ]
    },
    {
     "name": "stdout",
     "output_type": "stream",
     "text": [
      "===> train loss: 2.24\n",
      "===> val loss: 2.24, val iou: 0.00\n",
      "=> saving checkpoint\n",
      "Starting epoch 41\n",
      "learning rate: 0.004067245807204016\n"
     ]
    },
    {
     "name": "stderr",
     "output_type": "stream",
     "text": [
      "100%|██████████| 13/13 [00:05<00:00,  2.26it/s]\n",
      "100%|██████████| 13/13 [00:03<00:00,  4.27it/s]\n"
     ]
    },
    {
     "name": "stdout",
     "output_type": "stream",
     "text": [
      "===> train loss: 2.24\n",
      "===> val loss: 2.24, val iou: 0.00\n",
      "=> saving checkpoint\n",
      "Starting epoch 42\n",
      "learning rate: 0.004044216404706331\n"
     ]
    },
    {
     "name": "stderr",
     "output_type": "stream",
     "text": [
      "100%|██████████| 13/13 [00:05<00:00,  2.30it/s]\n",
      "100%|██████████| 13/13 [00:03<00:00,  4.26it/s]\n"
     ]
    },
    {
     "name": "stdout",
     "output_type": "stream",
     "text": [
      "===> train loss: 2.24\n",
      "===> val loss: 2.24, val iou: 0.00\n",
      "=> saving checkpoint\n",
      "Starting epoch 43\n",
      "learning rate: 0.004021172421921706\n"
     ]
    },
    {
     "name": "stderr",
     "output_type": "stream",
     "text": [
      "100%|██████████| 13/13 [00:05<00:00,  2.26it/s]\n",
      "100%|██████████| 13/13 [00:03<00:00,  4.28it/s]\n"
     ]
    },
    {
     "name": "stdout",
     "output_type": "stream",
     "text": [
      "===> train loss: 2.24\n",
      "===> val loss: 2.24, val iou: 0.00\n",
      "=> saving checkpoint\n",
      "Starting epoch 44\n",
      "learning rate: 0.003998113756661347\n"
     ]
    },
    {
     "name": "stderr",
     "output_type": "stream",
     "text": [
      "100%|██████████| 13/13 [00:05<00:00,  2.32it/s]\n",
      "100%|██████████| 13/13 [00:03<00:00,  4.30it/s]\n"
     ]
    },
    {
     "name": "stdout",
     "output_type": "stream",
     "text": [
      "===> train loss: 2.24\n",
      "===> val loss: 2.24, val iou: 0.00\n",
      "=> saving checkpoint\n",
      "Starting epoch 45\n",
      "learning rate: 0.00397504030536037\n"
     ]
    },
    {
     "name": "stderr",
     "output_type": "stream",
     "text": [
      "100%|██████████| 13/13 [00:05<00:00,  2.31it/s]\n",
      "100%|██████████| 13/13 [00:03<00:00,  4.12it/s]\n"
     ]
    },
    {
     "name": "stdout",
     "output_type": "stream",
     "text": [
      "===> train loss: 2.24\n",
      "===> val loss: 2.24, val iou: 0.00\n",
      "=> saving checkpoint\n",
      "Starting epoch 46\n",
      "learning rate: 0.003951951963050278\n"
     ]
    },
    {
     "name": "stderr",
     "output_type": "stream",
     "text": [
      "100%|██████████| 13/13 [00:05<00:00,  2.30it/s]\n",
      "100%|██████████| 13/13 [00:03<00:00,  4.18it/s]\n"
     ]
    },
    {
     "name": "stdout",
     "output_type": "stream",
     "text": [
      "===> train loss: 2.24\n",
      "===> val loss: 2.24, val iou: 0.00\n",
      "=> saving checkpoint\n",
      "Starting epoch 47\n",
      "learning rate: 0.003928848623330685\n"
     ]
    },
    {
     "name": "stderr",
     "output_type": "stream",
     "text": [
      "100%|██████████| 13/13 [00:05<00:00,  2.29it/s]\n",
      "100%|██████████| 13/13 [00:03<00:00,  4.25it/s]\n"
     ]
    },
    {
     "name": "stdout",
     "output_type": "stream",
     "text": [
      "===> train loss: 2.24\n",
      "===> val loss: 2.24, val iou: 0.00\n",
      "=> saving checkpoint\n",
      "Starting epoch 48\n",
      "learning rate: 0.003905730178340304\n"
     ]
    },
    {
     "name": "stderr",
     "output_type": "stream",
     "text": [
      "100%|██████████| 13/13 [00:05<00:00,  2.32it/s]\n",
      "100%|██████████| 13/13 [00:03<00:00,  4.27it/s]\n"
     ]
    },
    {
     "name": "stdout",
     "output_type": "stream",
     "text": [
      "===> train loss: 2.23\n",
      "===> val loss: 2.23, val iou: 0.00\n",
      "=> saving checkpoint\n",
      "Starting epoch 49\n",
      "learning rate: 0.0038825965187271345\n"
     ]
    },
    {
     "name": "stderr",
     "output_type": "stream",
     "text": [
      "100%|██████████| 13/13 [00:05<00:00,  2.29it/s]\n",
      "100%|██████████| 13/13 [00:03<00:00,  4.23it/s]\n"
     ]
    },
    {
     "name": "stdout",
     "output_type": "stream",
     "text": [
      "===> train loss: 2.23\n",
      "===> val loss: 2.23, val iou: 0.00\n",
      "=> saving checkpoint\n",
      "Starting epoch 50\n",
      "learning rate: 0.0038594475336178524\n"
     ]
    },
    {
     "name": "stderr",
     "output_type": "stream",
     "text": [
      "100%|██████████| 13/13 [00:05<00:00,  2.32it/s]\n",
      "100%|██████████| 13/13 [00:03<00:00,  4.18it/s]\n"
     ]
    },
    {
     "name": "stdout",
     "output_type": "stream",
     "text": [
      "===> train loss: 2.23\n",
      "===> val loss: 2.23, val iou: 0.00\n",
      "=> saving checkpoint\n",
      "Starting epoch 51\n",
      "learning rate: 0.0038362831105863537\n"
     ]
    },
    {
     "name": "stderr",
     "output_type": "stream",
     "text": [
      "100%|██████████| 13/13 [00:05<00:00,  2.28it/s]\n",
      "100%|██████████| 13/13 [00:03<00:00,  4.11it/s]\n"
     ]
    },
    {
     "name": "stdout",
     "output_type": "stream",
     "text": [
      "===> train loss: 2.23\n",
      "===> val loss: 2.23, val iou: 0.00\n",
      "=> saving checkpoint\n",
      "Starting epoch 52\n",
      "learning rate: 0.003813103135621442\n"
     ]
    },
    {
     "name": "stderr",
     "output_type": "stream",
     "text": [
      "100%|██████████| 13/13 [00:05<00:00,  2.26it/s]\n",
      "100%|██████████| 13/13 [00:03<00:00,  4.05it/s]\n"
     ]
    },
    {
     "name": "stdout",
     "output_type": "stream",
     "text": [
      "===> train loss: 2.23\n",
      "===> val loss: 2.23, val iou: 0.00\n",
      "=> saving checkpoint\n",
      "Starting epoch 53\n",
      "learning rate: 0.003789907493093607\n"
     ]
    },
    {
     "name": "stderr",
     "output_type": "stream",
     "text": [
      "100%|██████████| 13/13 [00:05<00:00,  2.26it/s]\n",
      "100%|██████████| 13/13 [00:03<00:00,  4.22it/s]\n"
     ]
    },
    {
     "name": "stdout",
     "output_type": "stream",
     "text": [
      "===> train loss: 2.23\n",
      "===> val loss: 2.23, val iou: 0.00\n",
      "=> saving checkpoint\n",
      "Starting epoch 54\n",
      "learning rate: 0.003766696065720893\n"
     ]
    },
    {
     "name": "stderr",
     "output_type": "stream",
     "text": [
      "100%|██████████| 13/13 [00:05<00:00,  2.28it/s]\n",
      "100%|██████████| 13/13 [00:03<00:00,  4.27it/s]\n"
     ]
    },
    {
     "name": "stdout",
     "output_type": "stream",
     "text": [
      "===> train loss: 2.23\n",
      "===> val loss: 2.23, val iou: 0.00\n",
      "=> saving checkpoint\n",
      "Starting epoch 55\n",
      "learning rate: 0.0037434687345337947\n"
     ]
    },
    {
     "name": "stderr",
     "output_type": "stream",
     "text": [
      "100%|██████████| 13/13 [00:05<00:00,  2.29it/s]\n",
      "100%|██████████| 13/13 [00:03<00:00,  4.26it/s]\n"
     ]
    },
    {
     "name": "stdout",
     "output_type": "stream",
     "text": [
      "===> train loss: 2.23\n",
      "===> val loss: 2.23, val iou: 0.00\n",
      "=> saving checkpoint\n",
      "Starting epoch 56\n",
      "learning rate: 0.0037202253788391638\n"
     ]
    },
    {
     "name": "stderr",
     "output_type": "stream",
     "text": [
      "100%|██████████| 13/13 [00:05<00:00,  2.31it/s]\n",
      "100%|██████████| 13/13 [00:03<00:00,  4.28it/s]\n"
     ]
    },
    {
     "name": "stdout",
     "output_type": "stream",
     "text": [
      "===> train loss: 2.23\n",
      "===> val loss: 2.23, val iou: 0.00\n",
      "=> saving checkpoint\n",
      "Starting epoch 57\n",
      "learning rate: 0.003696965876183094\n"
     ]
    },
    {
     "name": "stderr",
     "output_type": "stream",
     "text": [
      "100%|██████████| 13/13 [00:05<00:00,  2.26it/s]\n",
      "100%|██████████| 13/13 [00:03<00:00,  4.14it/s]\n"
     ]
    },
    {
     "name": "stdout",
     "output_type": "stream",
     "text": [
      "===> train loss: 2.23\n",
      "===> val loss: 2.23, val iou: 0.00\n",
      "=> saving checkpoint\n",
      "Starting epoch 58\n",
      "learning rate: 0.0036736901023127285\n"
     ]
    },
    {
     "name": "stderr",
     "output_type": "stream",
     "text": [
      "100%|██████████| 13/13 [00:05<00:00,  2.32it/s]\n",
      "100%|██████████| 13/13 [00:03<00:00,  4.15it/s]\n"
     ]
    },
    {
     "name": "stdout",
     "output_type": "stream",
     "text": [
      "===> train loss: 2.23\n",
      "===> val loss: 2.23, val iou: 0.00\n",
      "=> saving checkpoint\n",
      "Starting epoch 59\n",
      "learning rate: 0.003650397931136982\n"
     ]
    },
    {
     "name": "stderr",
     "output_type": "stream",
     "text": [
      "100%|██████████| 13/13 [00:05<00:00,  2.30it/s]\n",
      "100%|██████████| 13/13 [00:03<00:00,  4.15it/s]\n"
     ]
    },
    {
     "name": "stdout",
     "output_type": "stream",
     "text": [
      "===> train loss: 2.23\n",
      "===> val loss: 2.23, val iou: 0.00\n",
      "=> saving checkpoint\n",
      "Starting epoch 60\n",
      "learning rate: 0.0036270892346860996\n"
     ]
    },
    {
     "name": "stderr",
     "output_type": "stream",
     "text": [
      "100%|██████████| 13/13 [00:05<00:00,  2.32it/s]\n",
      "100%|██████████| 13/13 [00:03<00:00,  4.25it/s]\n"
     ]
    },
    {
     "name": "stdout",
     "output_type": "stream",
     "text": [
      "===> train loss: 2.23\n",
      "===> val loss: 2.23, val iou: 0.00\n",
      "=> saving checkpoint\n",
      "Starting epoch 61\n",
      "learning rate: 0.003603763883070051\n"
     ]
    },
    {
     "name": "stderr",
     "output_type": "stream",
     "text": [
      "100%|██████████| 13/13 [00:05<00:00,  2.28it/s]\n",
      "100%|██████████| 13/13 [00:03<00:00,  4.29it/s]\n"
     ]
    },
    {
     "name": "stdout",
     "output_type": "stream",
     "text": [
      "===> train loss: 2.23\n",
      "===> val loss: 2.23, val iou: 0.00\n",
      "=> saving checkpoint\n",
      "Starting epoch 62\n",
      "learning rate: 0.0035804217444356783\n"
     ]
    },
    {
     "name": "stderr",
     "output_type": "stream",
     "text": [
      "100%|██████████| 13/13 [00:05<00:00,  2.28it/s]\n",
      "100%|██████████| 13/13 [00:03<00:00,  4.20it/s]\n"
     ]
    },
    {
     "name": "stdout",
     "output_type": "stream",
     "text": [
      "===> train loss: 2.23\n",
      "===> val loss: 2.23, val iou: 0.00\n",
      "=> saving checkpoint\n",
      "Starting epoch 63\n",
      "learning rate: 0.003557062684922589\n"
     ]
    },
    {
     "name": "stderr",
     "output_type": "stream",
     "text": [
      "100%|██████████| 13/13 [00:05<00:00,  2.29it/s]\n",
      "100%|██████████| 13/13 [00:03<00:00,  4.13it/s]\n"
     ]
    },
    {
     "name": "stdout",
     "output_type": "stream",
     "text": [
      "===> train loss: 2.23\n",
      "===> val loss: 2.23, val iou: 0.00\n",
      "=> saving checkpoint\n",
      "Starting epoch 64\n",
      "learning rate: 0.003533686568617708\n"
     ]
    },
    {
     "name": "stderr",
     "output_type": "stream",
     "text": [
      "100%|██████████| 13/13 [00:05<00:00,  2.28it/s]\n",
      "100%|██████████| 13/13 [00:03<00:00,  4.11it/s]\n"
     ]
    },
    {
     "name": "stdout",
     "output_type": "stream",
     "text": [
      "===> train loss: 2.23\n",
      "===> val loss: 2.22, val iou: 0.00\n",
      "=> saving checkpoint\n",
      "Starting epoch 65\n",
      "learning rate: 0.00351029325750848\n"
     ]
    },
    {
     "name": "stderr",
     "output_type": "stream",
     "text": [
      "100%|██████████| 13/13 [00:05<00:00,  2.28it/s]\n",
      "100%|██████████| 13/13 [00:03<00:00,  4.22it/s]\n"
     ]
    },
    {
     "name": "stdout",
     "output_type": "stream",
     "text": [
      "===> train loss: 2.22\n",
      "===> val loss: 2.22, val iou: 0.00\n",
      "=> saving checkpoint\n",
      "Starting epoch 66\n",
      "learning rate: 0.0034868826114346314\n"
     ]
    },
    {
     "name": "stderr",
     "output_type": "stream",
     "text": [
      "100%|██████████| 13/13 [00:05<00:00,  2.27it/s]\n",
      "100%|██████████| 13/13 [00:03<00:00,  4.10it/s]\n"
     ]
    },
    {
     "name": "stdout",
     "output_type": "stream",
     "text": [
      "===> train loss: 2.22\n",
      "===> val loss: 2.22, val iou: 0.00\n",
      "=> saving checkpoint\n",
      "Starting epoch 67\n",
      "learning rate: 0.0034634544880384707\n"
     ]
    },
    {
     "name": "stderr",
     "output_type": "stream",
     "text": [
      "100%|██████████| 13/13 [00:05<00:00,  2.28it/s]\n",
      "100%|██████████| 13/13 [00:03<00:00,  4.18it/s]\n"
     ]
    },
    {
     "name": "stdout",
     "output_type": "stream",
     "text": [
      "===> train loss: 2.22\n",
      "===> val loss: 2.22, val iou: 0.00\n",
      "=> saving checkpoint\n",
      "Starting epoch 68\n",
      "learning rate: 0.003440008742713641\n"
     ]
    },
    {
     "name": "stderr",
     "output_type": "stream",
     "text": [
      "100%|██████████| 13/13 [00:05<00:00,  2.26it/s]\n",
      "100%|██████████| 13/13 [00:03<00:00,  4.20it/s]\n"
     ]
    },
    {
     "name": "stdout",
     "output_type": "stream",
     "text": [
      "===> train loss: 2.22\n",
      "===> val loss: 2.22, val iou: 0.00\n",
      "=> saving checkpoint\n",
      "Starting epoch 69\n",
      "learning rate: 0.0034165452285523008\n"
     ]
    },
    {
     "name": "stderr",
     "output_type": "stream",
     "text": [
      "100%|██████████| 13/13 [00:05<00:00,  2.31it/s]\n",
      "100%|██████████| 13/13 [00:03<00:00,  4.23it/s]\n"
     ]
    },
    {
     "name": "stdout",
     "output_type": "stream",
     "text": [
      "===> train loss: 2.22\n",
      "===> val loss: 2.22, val iou: 0.00\n",
      "=> saving checkpoint\n",
      "Starting epoch 70\n",
      "learning rate: 0.0033930637962906254\n"
     ]
    },
    {
     "name": "stderr",
     "output_type": "stream",
     "text": [
      "100%|██████████| 13/13 [00:05<00:00,  2.26it/s]\n",
      "100%|██████████| 13/13 [00:03<00:00,  4.05it/s]\n"
     ]
    },
    {
     "name": "stdout",
     "output_type": "stream",
     "text": [
      "===> train loss: 2.22\n",
      "===> val loss: 2.22, val iou: 0.00\n",
      "=> saving checkpoint\n",
      "Starting epoch 71\n",
      "learning rate: 0.0033695642942526095\n"
     ]
    },
    {
     "name": "stderr",
     "output_type": "stream",
     "text": [
      "100%|██████████| 13/13 [00:05<00:00,  2.32it/s]\n",
      "100%|██████████| 13/13 [00:03<00:00,  4.06it/s]\n"
     ]
    },
    {
     "name": "stdout",
     "output_type": "stream",
     "text": [
      "===> train loss: 2.22\n",
      "===> val loss: 2.22, val iou: 0.00\n",
      "=> saving checkpoint\n",
      "Starting epoch 72\n",
      "learning rate: 0.0033460465682920745\n"
     ]
    },
    {
     "name": "stderr",
     "output_type": "stream",
     "text": [
      "100%|██████████| 13/13 [00:05<00:00,  2.25it/s]\n",
      "100%|██████████| 13/13 [00:03<00:00,  4.26it/s]\n"
     ]
    },
    {
     "name": "stdout",
     "output_type": "stream",
     "text": [
      "===> train loss: 2.22\n",
      "===> val loss: 2.22, val iou: 0.00\n",
      "=> saving checkpoint\n",
      "Starting epoch 73\n",
      "learning rate: 0.0033225104617328177\n"
     ]
    },
    {
     "name": "stderr",
     "output_type": "stream",
     "text": [
      "100%|██████████| 13/13 [00:05<00:00,  2.31it/s]\n",
      "100%|██████████| 13/13 [00:03<00:00,  4.08it/s]\n"
     ]
    },
    {
     "name": "stdout",
     "output_type": "stream",
     "text": [
      "===> train loss: 2.22\n",
      "===> val loss: 2.22, val iou: 0.00\n",
      "=> saving checkpoint\n",
      "Starting epoch 74\n",
      "learning rate: 0.0032989558153068282\n"
     ]
    },
    {
     "name": "stderr",
     "output_type": "stream",
     "text": [
      "100%|██████████| 13/13 [00:05<00:00,  2.28it/s]\n",
      "100%|██████████| 13/13 [00:03<00:00,  4.21it/s]\n"
     ]
    },
    {
     "name": "stdout",
     "output_type": "stream",
     "text": [
      "===> train loss: 2.22\n",
      "===> val loss: 2.22, val iou: 0.00\n",
      "=> saving checkpoint\n",
      "Starting epoch 75\n",
      "learning rate: 0.003275382467090493\n"
     ]
    },
    {
     "name": "stderr",
     "output_type": "stream",
     "text": [
      "100%|██████████| 13/13 [00:05<00:00,  2.28it/s]\n",
      "100%|██████████| 13/13 [00:03<00:00,  4.20it/s]\n"
     ]
    },
    {
     "name": "stdout",
     "output_type": "stream",
     "text": [
      "===> train loss: 2.22\n",
      "===> val loss: 2.22, val iou: 0.00\n",
      "=> saving checkpoint\n",
      "Starting epoch 76\n",
      "learning rate: 0.0032517902524387098\n"
     ]
    },
    {
     "name": "stderr",
     "output_type": "stream",
     "text": [
      "100%|██████████| 13/13 [00:05<00:00,  2.30it/s]\n",
      "100%|██████████| 13/13 [00:03<00:00,  4.28it/s]\n"
     ]
    },
    {
     "name": "stdout",
     "output_type": "stream",
     "text": [
      "===> train loss: 2.22\n",
      "===> val loss: 2.22, val iou: 0.01\n",
      "=> saving checkpoint\n",
      "Starting epoch 77\n",
      "learning rate: 0.003228179003916818\n"
     ]
    },
    {
     "name": "stderr",
     "output_type": "stream",
     "text": [
      "100%|██████████| 13/13 [00:05<00:00,  2.27it/s]\n",
      "100%|██████████| 13/13 [00:03<00:00,  4.17it/s]\n"
     ]
    },
    {
     "name": "stdout",
     "output_type": "stream",
     "text": [
      "===> train loss: 2.22\n",
      "===> val loss: 2.22, val iou: 0.01\n",
      "=> saving checkpoint\n",
      "Starting epoch 78\n",
      "learning rate: 0.003204548551230261\n"
     ]
    },
    {
     "name": "stderr",
     "output_type": "stream",
     "text": [
      "100%|██████████| 13/13 [00:05<00:00,  2.33it/s]\n",
      "100%|██████████| 13/13 [00:03<00:00,  4.25it/s]\n"
     ]
    },
    {
     "name": "stdout",
     "output_type": "stream",
     "text": [
      "===> train loss: 2.21\n",
      "===> val loss: 2.22, val iou: 0.01\n",
      "=> saving checkpoint\n",
      "Starting epoch 79\n",
      "learning rate: 0.003180898721151886\n"
     ]
    },
    {
     "name": "stderr",
     "output_type": "stream",
     "text": [
      "100%|██████████| 13/13 [00:05<00:00,  2.30it/s]\n",
      "100%|██████████| 13/13 [00:03<00:00,  4.24it/s]\n"
     ]
    },
    {
     "name": "stdout",
     "output_type": "stream",
     "text": [
      "===> train loss: 2.22\n",
      "===> val loss: 2.22, val iou: 0.01\n",
      "=> saving checkpoint\n",
      "Starting epoch 80\n",
      "learning rate: 0.0031572293374467764\n"
     ]
    },
    {
     "name": "stderr",
     "output_type": "stream",
     "text": [
      "100%|██████████| 13/13 [00:05<00:00,  2.29it/s]\n",
      "100%|██████████| 13/13 [00:03<00:00,  4.17it/s]\n"
     ]
    },
    {
     "name": "stdout",
     "output_type": "stream",
     "text": [
      "===> train loss: 2.21\n",
      "===> val loss: 2.21, val iou: 0.01\n",
      "=> saving checkpoint\n",
      "Starting epoch 81\n",
      "learning rate: 0.0031335402207945113\n"
     ]
    },
    {
     "name": "stderr",
     "output_type": "stream",
     "text": [
      "100%|██████████| 13/13 [00:05<00:00,  2.29it/s]\n",
      "100%|██████████| 13/13 [00:03<00:00,  4.14it/s]\n"
     ]
    },
    {
     "name": "stdout",
     "output_type": "stream",
     "text": [
      "===> train loss: 2.21\n",
      "===> val loss: 2.21, val iou: 0.01\n",
      "=> saving checkpoint\n",
      "Starting epoch 82\n",
      "learning rate: 0.0031098311887087574\n"
     ]
    },
    {
     "name": "stderr",
     "output_type": "stream",
     "text": [
      "100%|██████████| 13/13 [00:05<00:00,  2.26it/s]\n",
      "100%|██████████| 13/13 [00:03<00:00,  4.12it/s]\n"
     ]
    },
    {
     "name": "stdout",
     "output_type": "stream",
     "text": [
      "===> train loss: 2.21\n",
      "===> val loss: 2.21, val iou: 0.01\n",
      "=> saving checkpoint\n",
      "Starting epoch 83\n",
      "learning rate: 0.003086102055454047\n"
     ]
    },
    {
     "name": "stderr",
     "output_type": "stream",
     "text": [
      "100%|██████████| 13/13 [00:05<00:00,  2.28it/s]\n",
      "100%|██████████| 13/13 [00:03<00:00,  4.31it/s]\n"
     ]
    },
    {
     "name": "stdout",
     "output_type": "stream",
     "text": [
      "===> train loss: 2.21\n",
      "===> val loss: 2.21, val iou: 0.01\n",
      "=> saving checkpoint\n",
      "Starting epoch 84\n",
      "learning rate: 0.0030623526319596625\n"
     ]
    },
    {
     "name": "stderr",
     "output_type": "stream",
     "text": [
      "100%|██████████| 13/13 [00:05<00:00,  2.26it/s]\n",
      "100%|██████████| 13/13 [00:03<00:00,  4.19it/s]\n"
     ]
    },
    {
     "name": "stdout",
     "output_type": "stream",
     "text": [
      "===> train loss: 2.21\n",
      "===> val loss: 2.21, val iou: 0.01\n",
      "=> saving checkpoint\n",
      "Starting epoch 85\n",
      "learning rate: 0.003038582725730446\n"
     ]
    },
    {
     "name": "stderr",
     "output_type": "stream",
     "text": [
      "100%|██████████| 13/13 [00:05<00:00,  2.30it/s]\n",
      "100%|██████████| 13/13 [00:03<00:00,  4.10it/s]\n"
     ]
    },
    {
     "name": "stdout",
     "output_type": "stream",
     "text": [
      "===> train loss: 2.21\n",
      "===> val loss: 2.21, val iou: 0.01\n",
      "=> saving checkpoint\n",
      "Starting epoch 86\n",
      "learning rate: 0.0030147921407544602\n"
     ]
    },
    {
     "name": "stderr",
     "output_type": "stream",
     "text": [
      "100%|██████████| 13/13 [00:05<00:00,  2.27it/s]\n",
      "100%|██████████| 13/13 [00:03<00:00,  4.13it/s]\n"
     ]
    },
    {
     "name": "stdout",
     "output_type": "stream",
     "text": [
      "===> train loss: 2.21\n",
      "===> val loss: 2.21, val iou: 0.01\n",
      "=> saving checkpoint\n",
      "Starting epoch 87\n",
      "learning rate: 0.0029909806774072955\n"
     ]
    },
    {
     "name": "stderr",
     "output_type": "stream",
     "text": [
      "100%|██████████| 13/13 [00:05<00:00,  2.30it/s]\n",
      "100%|██████████| 13/13 [00:03<00:00,  4.32it/s]\n"
     ]
    },
    {
     "name": "stdout",
     "output_type": "stream",
     "text": [
      "===> train loss: 2.21\n",
      "===> val loss: 2.21, val iou: 0.01\n",
      "=> saving checkpoint\n",
      "Starting epoch 88\n",
      "learning rate: 0.00296714813235293\n"
     ]
    },
    {
     "name": "stderr",
     "output_type": "stream",
     "text": [
      "100%|██████████| 13/13 [00:05<00:00,  2.31it/s]\n",
      "100%|██████████| 13/13 [00:03<00:00,  4.19it/s]\n"
     ]
    },
    {
     "name": "stdout",
     "output_type": "stream",
     "text": [
      "===> train loss: 2.21\n",
      "===> val loss: 2.21, val iou: 0.01\n",
      "=> saving checkpoint\n",
      "Starting epoch 89\n",
      "learning rate: 0.002943294298440934\n"
     ]
    },
    {
     "name": "stderr",
     "output_type": "stream",
     "text": [
      "100%|██████████| 13/13 [00:05<00:00,  2.28it/s]\n",
      "100%|██████████| 13/13 [00:03<00:00,  4.23it/s]\n"
     ]
    },
    {
     "name": "stdout",
     "output_type": "stream",
     "text": [
      "===> train loss: 2.21\n",
      "===> val loss: 2.21, val iou: 0.01\n",
      "=> saving checkpoint\n",
      "Starting epoch 90\n",
      "learning rate: 0.0029194189645999013\n"
     ]
    },
    {
     "name": "stderr",
     "output_type": "stream",
     "text": [
      "100%|██████████| 13/13 [00:05<00:00,  2.30it/s]\n",
      "100%|██████████| 13/13 [00:03<00:00,  4.28it/s]\n"
     ]
    },
    {
     "name": "stdout",
     "output_type": "stream",
     "text": [
      "===> train loss: 2.21\n",
      "===> val loss: 2.21, val iou: 0.01\n",
      "=> saving checkpoint\n",
      "Starting epoch 91\n",
      "learning rate: 0.0028955219157268818\n"
     ]
    },
    {
     "name": "stderr",
     "output_type": "stream",
     "text": [
      "100%|██████████| 13/13 [00:05<00:00,  2.29it/s]\n",
      "100%|██████████| 13/13 [00:03<00:00,  4.29it/s]\n"
     ]
    },
    {
     "name": "stdout",
     "output_type": "stream",
     "text": [
      "===> train loss: 2.21\n",
      "===> val loss: 2.21, val iou: 0.01\n",
      "=> saving checkpoint\n",
      "Starting epoch 92\n",
      "learning rate: 0.0028716029325726706\n"
     ]
    },
    {
     "name": "stderr",
     "output_type": "stream",
     "text": [
      "100%|██████████| 13/13 [00:05<00:00,  2.25it/s]\n",
      "100%|██████████| 13/13 [00:03<00:00,  4.28it/s]\n"
     ]
    },
    {
     "name": "stdout",
     "output_type": "stream",
     "text": [
      "===> train loss: 2.21\n",
      "===> val loss: 2.20, val iou: 0.01\n",
      "=> saving checkpoint\n",
      "Starting epoch 93\n",
      "learning rate: 0.0028476617916227283\n"
     ]
    },
    {
     "name": "stderr",
     "output_type": "stream",
     "text": [
      "100%|██████████| 13/13 [00:05<00:00,  2.29it/s]\n",
      "100%|██████████| 13/13 [00:03<00:00,  4.18it/s]\n"
     ]
    },
    {
     "name": "stdout",
     "output_type": "stream",
     "text": [
      "===> train loss: 2.20\n",
      "===> val loss: 2.20, val iou: 0.01\n",
      "=> saving checkpoint\n",
      "Starting epoch 94\n",
      "learning rate: 0.002823698264973549\n"
     ]
    },
    {
     "name": "stderr",
     "output_type": "stream",
     "text": [
      "100%|██████████| 13/13 [00:05<00:00,  2.26it/s]\n",
      "100%|██████████| 13/13 [00:03<00:00,  4.11it/s]\n"
     ]
    },
    {
     "name": "stdout",
     "output_type": "stream",
     "text": [
      "===> train loss: 2.20\n",
      "===> val loss: 2.20, val iou: 0.01\n",
      "=> saving checkpoint\n",
      "Starting epoch 95\n",
      "learning rate: 0.0027997121202042266\n"
     ]
    },
    {
     "name": "stderr",
     "output_type": "stream",
     "text": [
      "100%|██████████| 13/13 [00:05<00:00,  2.28it/s]\n",
      "100%|██████████| 13/13 [00:03<00:00,  4.17it/s]\n"
     ]
    },
    {
     "name": "stdout",
     "output_type": "stream",
     "text": [
      "===> train loss: 2.20\n",
      "===> val loss: 2.20, val iou: 0.01\n",
      "=> saving checkpoint\n",
      "Starting epoch 96\n",
      "learning rate: 0.0027757031202430183\n"
     ]
    },
    {
     "name": "stderr",
     "output_type": "stream",
     "text": [
      "100%|██████████| 13/13 [00:05<00:00,  2.26it/s]\n",
      "100%|██████████| 13/13 [00:03<00:00,  4.24it/s]\n"
     ]
    },
    {
     "name": "stdout",
     "output_type": "stream",
     "text": [
      "===> train loss: 2.20\n",
      "===> val loss: 2.20, val iou: 0.01\n",
      "=> saving checkpoint\n",
      "Starting epoch 97\n",
      "learning rate: 0.002751671023228639\n"
     ]
    },
    {
     "name": "stderr",
     "output_type": "stream",
     "text": [
      "100%|██████████| 13/13 [00:05<00:00,  2.26it/s]\n",
      "100%|██████████| 13/13 [00:03<00:00,  4.15it/s]\n"
     ]
    },
    {
     "name": "stdout",
     "output_type": "stream",
     "text": [
      "===> train loss: 2.20\n",
      "===> val loss: 2.20, val iou: 0.01\n",
      "=> saving checkpoint\n",
      "Starting epoch 98\n",
      "learning rate: 0.002727615582366029\n"
     ]
    },
    {
     "name": "stderr",
     "output_type": "stream",
     "text": [
      "100%|██████████| 13/13 [00:05<00:00,  2.26it/s]\n",
      "100%|██████████| 13/13 [00:03<00:00,  4.22it/s]\n"
     ]
    },
    {
     "name": "stdout",
     "output_type": "stream",
     "text": [
      "===> train loss: 2.20\n",
      "===> val loss: 2.20, val iou: 0.01\n",
      "=> saving checkpoint\n",
      "Starting epoch 99\n",
      "learning rate: 0.0027035365457763246\n"
     ]
    },
    {
     "name": "stderr",
     "output_type": "stream",
     "text": [
      "100%|██████████| 13/13 [00:05<00:00,  2.26it/s]\n",
      "100%|██████████| 13/13 [00:03<00:00,  4.17it/s]\n"
     ]
    },
    {
     "name": "stdout",
     "output_type": "stream",
     "text": [
      "===> train loss: 2.20\n",
      "===> val loss: 2.20, val iou: 0.01\n",
      "=> saving checkpoint\n",
      "Starting epoch 100\n",
      "learning rate: 0.002679433656340733\n"
     ]
    },
    {
     "name": "stderr",
     "output_type": "stream",
     "text": [
      "100%|██████████| 13/13 [00:05<00:00,  2.29it/s]\n",
      "100%|██████████| 13/13 [00:03<00:00,  4.23it/s]\n"
     ]
    },
    {
     "name": "stdout",
     "output_type": "stream",
     "text": [
      "===> train loss: 2.20\n",
      "===> val loss: 2.20, val iou: 0.01\n",
      "=> saving checkpoint\n",
      "Starting epoch 101\n",
      "learning rate: 0.0026553066515380024\n"
     ]
    },
    {
     "name": "stderr",
     "output_type": "stream",
     "text": [
      "100%|██████████| 13/13 [00:05<00:00,  2.30it/s]\n",
      "100%|██████████| 13/13 [00:03<00:00,  4.23it/s]\n"
     ]
    },
    {
     "name": "stdout",
     "output_type": "stream",
     "text": [
      "===> train loss: 2.20\n",
      "===> val loss: 2.20, val iou: 0.01\n",
      "=> saving checkpoint\n",
      "Starting epoch 102\n",
      "learning rate: 0.0026311552632751595\n"
     ]
    },
    {
     "name": "stderr",
     "output_type": "stream",
     "text": [
      "100%|██████████| 13/13 [00:05<00:00,  2.27it/s]\n",
      "100%|██████████| 13/13 [00:03<00:00,  4.29it/s]\n"
     ]
    },
    {
     "name": "stdout",
     "output_type": "stream",
     "text": [
      "===> train loss: 2.20\n",
      "===> val loss: 2.20, val iou: 0.01\n",
      "=> saving checkpoint\n",
      "Starting epoch 103\n",
      "learning rate: 0.002606979217711156\n"
     ]
    },
    {
     "name": "stderr",
     "output_type": "stream",
     "text": [
      "100%|██████████| 13/13 [00:05<00:00,  2.33it/s]\n",
      "100%|██████████| 13/13 [00:03<00:00,  4.25it/s]\n"
     ]
    },
    {
     "name": "stdout",
     "output_type": "stream",
     "text": [
      "===> train loss: 2.20\n",
      "===> val loss: 2.20, val iou: 0.01\n",
      "=> saving checkpoint\n",
      "Starting epoch 104\n",
      "learning rate: 0.002582778235073065\n"
     ]
    },
    {
     "name": "stderr",
     "output_type": "stream",
     "text": [
      "100%|██████████| 13/13 [00:05<00:00,  2.31it/s]\n",
      "100%|██████████| 13/13 [00:03<00:00,  4.16it/s]\n"
     ]
    },
    {
     "name": "stdout",
     "output_type": "stream",
     "text": [
      "===> train loss: 2.20\n",
      "===> val loss: 2.19, val iou: 0.01\n",
      "=> saving checkpoint\n",
      "Starting epoch 105\n",
      "learning rate: 0.002558552029464411\n"
     ]
    },
    {
     "name": "stderr",
     "output_type": "stream",
     "text": [
      "100%|██████████| 13/13 [00:05<00:00,  2.28it/s]\n",
      "100%|██████████| 13/13 [00:03<00:00,  4.18it/s]\n"
     ]
    },
    {
     "name": "stdout",
     "output_type": "stream",
     "text": [
      "===> train loss: 2.19\n",
      "===> val loss: 2.19, val iou: 0.01\n",
      "=> saving checkpoint\n",
      "Starting epoch 106\n",
      "learning rate: 0.0025343003086652368\n"
     ]
    },
    {
     "name": "stderr",
     "output_type": "stream",
     "text": [
      "100%|██████████| 13/13 [00:05<00:00,  2.30it/s]\n",
      "100%|██████████| 13/13 [00:03<00:00,  4.25it/s]\n"
     ]
    },
    {
     "name": "stdout",
     "output_type": "stream",
     "text": [
      "===> train loss: 2.19\n",
      "===> val loss: 2.19, val iou: 0.01\n",
      "=> saving checkpoint\n",
      "Starting epoch 107\n",
      "learning rate: 0.0025100227739234303\n"
     ]
    },
    {
     "name": "stderr",
     "output_type": "stream",
     "text": [
      "100%|██████████| 13/13 [00:05<00:00,  2.31it/s]\n",
      "100%|██████████| 13/13 [00:03<00:00,  4.23it/s]\n"
     ]
    },
    {
     "name": "stdout",
     "output_type": "stream",
     "text": [
      "===> train loss: 2.19\n",
      "===> val loss: 2.19, val iou: 0.01\n",
      "=> saving checkpoint\n",
      "Starting epoch 108\n",
      "learning rate: 0.002485719119736858\n"
     ]
    },
    {
     "name": "stderr",
     "output_type": "stream",
     "text": [
      "100%|██████████| 13/13 [00:05<00:00,  2.28it/s]\n",
      "100%|██████████| 13/13 [00:03<00:00,  4.20it/s]\n"
     ]
    },
    {
     "name": "stdout",
     "output_type": "stream",
     "text": [
      "===> train loss: 2.19\n",
      "===> val loss: 2.19, val iou: 0.01\n",
      "=> saving checkpoint\n",
      "Starting epoch 109\n",
      "learning rate: 0.002461389033625775\n"
     ]
    },
    {
     "name": "stderr",
     "output_type": "stream",
     "text": [
      "100%|██████████| 13/13 [00:05<00:00,  2.26it/s]\n",
      "100%|██████████| 13/13 [00:03<00:00,  4.27it/s]\n"
     ]
    },
    {
     "name": "stdout",
     "output_type": "stream",
     "text": [
      "===> train loss: 2.19\n",
      "===> val loss: 2.19, val iou: 0.01\n",
      "=> saving checkpoint\n",
      "Starting epoch 110\n",
      "learning rate: 0.002437032195894977\n"
     ]
    },
    {
     "name": "stderr",
     "output_type": "stream",
     "text": [
      "100%|██████████| 13/13 [00:05<00:00,  2.30it/s]\n",
      "100%|██████████| 13/13 [00:03<00:00,  4.26it/s]\n"
     ]
    },
    {
     "name": "stdout",
     "output_type": "stream",
     "text": [
      "===> train loss: 2.19\n",
      "===> val loss: 2.19, val iou: 0.01\n",
      "=> saving checkpoint\n",
      "Starting epoch 111\n",
      "learning rate: 0.002412648279385112\n"
     ]
    },
    {
     "name": "stderr",
     "output_type": "stream",
     "text": [
      "100%|██████████| 13/13 [00:05<00:00,  2.30it/s]\n",
      "100%|██████████| 13/13 [00:03<00:00,  4.24it/s]\n"
     ]
    },
    {
     "name": "stdout",
     "output_type": "stream",
     "text": [
      "===> train loss: 2.19\n",
      "===> val loss: 2.19, val iou: 0.01\n",
      "=> saving checkpoint\n",
      "Starting epoch 112\n",
      "learning rate: 0.002388236949212524\n"
     ]
    },
    {
     "name": "stderr",
     "output_type": "stream",
     "text": [
      "100%|██████████| 13/13 [00:05<00:00,  2.29it/s]\n",
      "100%|██████████| 13/13 [00:03<00:00,  4.21it/s]\n"
     ]
    },
    {
     "name": "stdout",
     "output_type": "stream",
     "text": [
      "===> train loss: 2.19\n",
      "===> val loss: 2.19, val iou: 0.01\n",
      "=> saving checkpoint\n",
      "Starting epoch 113\n",
      "learning rate: 0.002363797862496971\n"
     ]
    },
    {
     "name": "stderr",
     "output_type": "stream",
     "text": [
      "100%|██████████| 13/13 [00:05<00:00,  2.26it/s]\n",
      "100%|██████████| 13/13 [00:03<00:00,  4.20it/s]\n"
     ]
    },
    {
     "name": "stdout",
     "output_type": "stream",
     "text": [
      "===> train loss: 2.19\n",
      "===> val loss: 2.19, val iou: 0.01\n",
      "=> saving checkpoint\n",
      "Starting epoch 114\n",
      "learning rate: 0.0023393306680765\n"
     ]
    },
    {
     "name": "stderr",
     "output_type": "stream",
     "text": [
      "100%|██████████| 13/13 [00:05<00:00,  2.27it/s]\n",
      "100%|██████████| 13/13 [00:03<00:00,  4.23it/s]\n"
     ]
    },
    {
     "name": "stdout",
     "output_type": "stream",
     "text": [
      "===> train loss: 2.19\n",
      "===> val loss: 2.19, val iou: 0.01\n",
      "=> saving checkpoint\n",
      "Starting epoch 115\n",
      "learning rate: 0.002314835006208722\n"
     ]
    },
    {
     "name": "stderr",
     "output_type": "stream",
     "text": [
      "100%|██████████| 13/13 [00:05<00:00,  2.32it/s]\n",
      "100%|██████████| 13/13 [00:03<00:00,  4.25it/s]\n"
     ]
    },
    {
     "name": "stdout",
     "output_type": "stream",
     "text": [
      "===> train loss: 2.19\n",
      "===> val loss: 2.19, val iou: 0.02\n",
      "=> saving checkpoint\n",
      "Starting epoch 116\n",
      "learning rate: 0.0022903105082576663\n"
     ]
    },
    {
     "name": "stderr",
     "output_type": "stream",
     "text": [
      "100%|██████████| 13/13 [00:05<00:00,  2.31it/s]\n",
      "100%|██████████| 13/13 [00:03<00:00,  4.29it/s]\n"
     ]
    },
    {
     "name": "stdout",
     "output_type": "stream",
     "text": [
      "===> train loss: 2.19\n",
      "===> val loss: 2.18, val iou: 0.02\n",
      "=> saving checkpoint\n",
      "Starting epoch 117\n",
      "learning rate: 0.002265756796365339\n"
     ]
    },
    {
     "name": "stderr",
     "output_type": "stream",
     "text": [
      "100%|██████████| 13/13 [00:05<00:00,  2.29it/s]\n",
      "100%|██████████| 13/13 [00:03<00:00,  4.21it/s]\n"
     ]
    },
    {
     "name": "stdout",
     "output_type": "stream",
     "text": [
      "===> train loss: 2.19\n",
      "===> val loss: 2.18, val iou: 0.02\n",
      "=> saving checkpoint\n",
      "Starting epoch 118\n",
      "learning rate: 0.0022411734831070474\n"
     ]
    },
    {
     "name": "stderr",
     "output_type": "stream",
     "text": [
      "100%|██████████| 13/13 [00:05<00:00,  2.30it/s]\n",
      "100%|██████████| 13/13 [00:03<00:00,  4.13it/s]\n"
     ]
    },
    {
     "name": "stdout",
     "output_type": "stream",
     "text": [
      "===> train loss: 2.18\n",
      "===> val loss: 2.18, val iou: 0.01\n",
      "=> saving checkpoint\n",
      "Starting epoch 119\n",
      "learning rate: 0.002216560171129477\n"
     ]
    },
    {
     "name": "stderr",
     "output_type": "stream",
     "text": [
      "100%|██████████| 13/13 [00:05<00:00,  2.32it/s]\n",
      "100%|██████████| 13/13 [00:03<00:00,  4.27it/s]\n"
     ]
    },
    {
     "name": "stdout",
     "output_type": "stream",
     "text": [
      "===> train loss: 2.18\n",
      "===> val loss: 2.18, val iou: 0.02\n",
      "=> saving checkpoint\n",
      "Starting epoch 120\n",
      "learning rate: 0.0021919164527704348\n"
     ]
    },
    {
     "name": "stderr",
     "output_type": "stream",
     "text": [
      "100%|██████████| 13/13 [00:05<00:00,  2.30it/s]\n",
      "100%|██████████| 13/13 [00:03<00:00,  4.21it/s]\n"
     ]
    },
    {
     "name": "stdout",
     "output_type": "stream",
     "text": [
      "===> train loss: 2.18\n",
      "===> val loss: 2.18, val iou: 0.02\n",
      "=> saving checkpoint\n",
      "Starting epoch 121\n",
      "learning rate: 0.002167241909659091\n"
     ]
    },
    {
     "name": "stderr",
     "output_type": "stream",
     "text": [
      "100%|██████████| 13/13 [00:05<00:00,  2.27it/s]\n",
      "100%|██████████| 13/13 [00:03<00:00,  4.13it/s]\n"
     ]
    },
    {
     "name": "stdout",
     "output_type": "stream",
     "text": [
      "===> train loss: 2.18\n",
      "===> val loss: 2.18, val iou: 0.02\n",
      "=> saving checkpoint\n",
      "Starting epoch 122\n",
      "learning rate: 0.0021425361122954585\n"
     ]
    },
    {
     "name": "stderr",
     "output_type": "stream",
     "text": [
      "100%|██████████| 13/13 [00:05<00:00,  2.30it/s]\n",
      "100%|██████████| 13/13 [00:03<00:00,  4.11it/s]\n"
     ]
    },
    {
     "name": "stdout",
     "output_type": "stream",
     "text": [
      "===> train loss: 2.18\n",
      "===> val loss: 2.18, val iou: 0.02\n",
      "=> saving checkpoint\n",
      "Starting epoch 123\n",
      "learning rate: 0.0021177986196077485\n"
     ]
    },
    {
     "name": "stderr",
     "output_type": "stream",
     "text": [
      "100%|██████████| 13/13 [00:05<00:00,  2.30it/s]\n",
      "100%|██████████| 13/13 [00:03<00:00,  4.25it/s]\n"
     ]
    },
    {
     "name": "stdout",
     "output_type": "stream",
     "text": [
      "===> train loss: 2.18\n",
      "===> val loss: 2.18, val iou: 0.02\n",
      "=> saving checkpoint\n",
      "Starting epoch 124\n",
      "learning rate: 0.0020930289784861405\n"
     ]
    },
    {
     "name": "stderr",
     "output_type": "stream",
     "text": [
      "100%|██████████| 13/13 [00:05<00:00,  2.30it/s]\n",
      "100%|██████████| 13/13 [00:03<00:00,  4.13it/s]\n"
     ]
    },
    {
     "name": "stdout",
     "output_type": "stream",
     "text": [
      "===> train loss: 2.18\n",
      "===> val loss: 2.18, val iou: 0.02\n",
      "=> saving checkpoint\n",
      "Starting epoch 125\n",
      "learning rate: 0.002068226723291381\n"
     ]
    },
    {
     "name": "stderr",
     "output_type": "stream",
     "text": [
      "100%|██████████| 13/13 [00:05<00:00,  2.32it/s]\n",
      "100%|██████████| 13/13 [00:03<00:00,  4.16it/s]\n"
     ]
    },
    {
     "name": "stdout",
     "output_type": "stream",
     "text": [
      "===> train loss: 2.18\n",
      "===> val loss: 2.18, val iou: 0.02\n",
      "=> saving checkpoint\n",
      "Starting epoch 126\n",
      "learning rate: 0.0020433913753364944\n"
     ]
    },
    {
     "name": "stderr",
     "output_type": "stream",
     "text": [
      "100%|██████████| 13/13 [00:05<00:00,  2.32it/s]\n",
      "100%|██████████| 13/13 [00:03<00:00,  4.23it/s]\n"
     ]
    },
    {
     "name": "stdout",
     "output_type": "stream",
     "text": [
      "===> train loss: 2.18\n",
      "===> val loss: 2.18, val iou: 0.02\n",
      "=> saving checkpoint\n",
      "Starting epoch 127\n",
      "learning rate: 0.0020185224423397573\n"
     ]
    },
    {
     "name": "stderr",
     "output_type": "stream",
     "text": [
      "100%|██████████| 13/13 [00:05<00:00,  2.29it/s]\n",
      "100%|██████████| 13/13 [00:03<00:00,  4.11it/s]\n"
     ]
    },
    {
     "name": "stdout",
     "output_type": "stream",
     "text": [
      "===> train loss: 2.18\n",
      "===> val loss: 2.18, val iou: 0.02\n",
      "=> saving checkpoint\n",
      "Starting epoch 128\n",
      "learning rate: 0.001993619417846922\n"
     ]
    },
    {
     "name": "stderr",
     "output_type": "stream",
     "text": [
      "100%|██████████| 13/13 [00:05<00:00,  2.32it/s]\n",
      "100%|██████████| 13/13 [00:03<00:00,  4.22it/s]\n"
     ]
    },
    {
     "name": "stdout",
     "output_type": "stream",
     "text": [
      "===> train loss: 2.17\n",
      "===> val loss: 2.17, val iou: 0.02\n",
      "=> saving checkpoint\n",
      "Starting epoch 129\n",
      "learning rate: 0.001968681780620511\n"
     ]
    },
    {
     "name": "stderr",
     "output_type": "stream",
     "text": [
      "100%|██████████| 13/13 [00:05<00:00,  2.31it/s]\n",
      "100%|██████████| 13/13 [00:03<00:00,  4.14it/s]\n"
     ]
    },
    {
     "name": "stdout",
     "output_type": "stream",
     "text": [
      "===> train loss: 2.17\n",
      "===> val loss: 2.17, val iou: 0.02\n",
      "=> saving checkpoint\n",
      "Starting epoch 130\n",
      "learning rate: 0.0019437089939938173\n"
     ]
    },
    {
     "name": "stderr",
     "output_type": "stream",
     "text": [
      "100%|██████████| 13/13 [00:05<00:00,  2.26it/s]\n",
      "100%|██████████| 13/13 [00:03<00:00,  4.13it/s]\n"
     ]
    },
    {
     "name": "stdout",
     "output_type": "stream",
     "text": [
      "===> train loss: 2.17\n",
      "===> val loss: 2.17, val iou: 0.02\n",
      "=> saving checkpoint\n",
      "Starting epoch 131\n",
      "learning rate: 0.001918700505187031\n"
     ]
    },
    {
     "name": "stderr",
     "output_type": "stream",
     "text": [
      "100%|██████████| 13/13 [00:05<00:00,  2.30it/s]\n",
      "100%|██████████| 13/13 [00:03<00:00,  4.18it/s]\n"
     ]
    },
    {
     "name": "stdout",
     "output_type": "stream",
     "text": [
      "===> train loss: 2.17\n",
      "===> val loss: 2.17, val iou: 0.02\n",
      "=> saving checkpoint\n",
      "Starting epoch 132\n",
      "learning rate: 0.0018936557445826967\n"
     ]
    },
    {
     "name": "stderr",
     "output_type": "stream",
     "text": [
      "100%|██████████| 13/13 [00:05<00:00,  2.32it/s]\n",
      "100%|██████████| 13/13 [00:03<00:00,  4.23it/s]\n"
     ]
    },
    {
     "name": "stdout",
     "output_type": "stream",
     "text": [
      "===> train loss: 2.17\n",
      "===> val loss: 2.17, val iou: 0.02\n",
      "=> saving checkpoint\n",
      "Starting epoch 133\n",
      "learning rate: 0.0018685741249574433\n"
     ]
    },
    {
     "name": "stderr",
     "output_type": "stream",
     "text": [
      "100%|██████████| 13/13 [00:05<00:00,  2.28it/s]\n",
      "100%|██████████| 13/13 [00:03<00:00,  4.14it/s]\n"
     ]
    },
    {
     "name": "stdout",
     "output_type": "stream",
     "text": [
      "===> train loss: 2.17\n",
      "===> val loss: 2.17, val iou: 0.02\n",
      "=> saving checkpoint\n",
      "Starting epoch 134\n",
      "learning rate: 0.0018434550406666598\n"
     ]
    },
    {
     "name": "stderr",
     "output_type": "stream",
     "text": [
      "100%|██████████| 13/13 [00:05<00:00,  2.27it/s]\n",
      "100%|██████████| 13/13 [00:03<00:00,  4.25it/s]\n"
     ]
    },
    {
     "name": "stdout",
     "output_type": "stream",
     "text": [
      "===> train loss: 2.17\n",
      "===> val loss: 2.17, val iou: 0.02\n",
      "=> saving checkpoint\n",
      "Starting epoch 135\n",
      "learning rate: 0.001818297866778471\n"
     ]
    },
    {
     "name": "stderr",
     "output_type": "stream",
     "text": [
      "100%|██████████| 13/13 [00:05<00:00,  2.29it/s]\n",
      "100%|██████████| 13/13 [00:03<00:00,  4.17it/s]\n"
     ]
    },
    {
     "name": "stdout",
     "output_type": "stream",
     "text": [
      "===> train loss: 2.17\n",
      "===> val loss: 2.17, val iou: 0.02\n",
      "=> saving checkpoint\n",
      "Starting epoch 136\n",
      "learning rate: 0.0017931019581530385\n"
     ]
    },
    {
     "name": "stderr",
     "output_type": "stream",
     "text": [
      "100%|██████████| 13/13 [00:05<00:00,  2.33it/s]\n",
      "100%|██████████| 13/13 [00:03<00:00,  4.27it/s]\n"
     ]
    },
    {
     "name": "stdout",
     "output_type": "stream",
     "text": [
      "===> train loss: 2.17\n",
      "===> val loss: 2.17, val iou: 0.02\n",
      "=> saving checkpoint\n",
      "Starting epoch 137\n",
      "learning rate: 0.0017678666484628196\n"
     ]
    },
    {
     "name": "stderr",
     "output_type": "stream",
     "text": [
      "100%|██████████| 13/13 [00:05<00:00,  2.29it/s]\n",
      "100%|██████████| 13/13 [00:03<00:00,  4.12it/s]\n"
     ]
    },
    {
     "name": "stdout",
     "output_type": "stream",
     "text": [
      "===> train loss: 2.17\n",
      "===> val loss: 2.17, val iou: 0.02\n",
      "=> saving checkpoint\n",
      "Starting epoch 138\n",
      "learning rate: 0.0017425912491490017\n"
     ]
    },
    {
     "name": "stderr",
     "output_type": "stream",
     "text": [
      "100%|██████████| 13/13 [00:05<00:00,  2.26it/s]\n",
      "100%|██████████| 13/13 [00:03<00:00,  4.24it/s]\n"
     ]
    },
    {
     "name": "stdout",
     "output_type": "stream",
     "text": [
      "===> train loss: 2.17\n",
      "===> val loss: 2.17, val iou: 0.02\n",
      "=> saving checkpoint\n",
      "Starting epoch 139\n",
      "learning rate: 0.0017172750483088594\n"
     ]
    },
    {
     "name": "stderr",
     "output_type": "stream",
     "text": [
      "100%|██████████| 13/13 [00:05<00:00,  2.29it/s]\n",
      "100%|██████████| 13/13 [00:03<00:00,  4.07it/s]\n"
     ]
    },
    {
     "name": "stdout",
     "output_type": "stream",
     "text": [
      "===> train loss: 2.17\n",
      "===> val loss: 2.17, val iou: 0.02\n",
      "=> saving checkpoint\n",
      "Starting epoch 140\n",
      "learning rate: 0.0016919173095082494\n"
     ]
    },
    {
     "name": "stderr",
     "output_type": "stream",
     "text": [
      "100%|██████████| 13/13 [00:05<00:00,  2.27it/s]\n",
      "100%|██████████| 13/13 [00:03<00:00,  4.16it/s]\n"
     ]
    },
    {
     "name": "stdout",
     "output_type": "stream",
     "text": [
      "===> train loss: 2.16\n",
      "===> val loss: 2.16, val iou: 0.02\n",
      "=> saving checkpoint\n",
      "Starting epoch 141\n",
      "learning rate: 0.0016665172705128705\n"
     ]
    },
    {
     "name": "stderr",
     "output_type": "stream",
     "text": [
      "100%|██████████| 13/13 [00:05<00:00,  2.29it/s]\n",
      "100%|██████████| 13/13 [00:03<00:00,  4.24it/s]\n"
     ]
    },
    {
     "name": "stdout",
     "output_type": "stream",
     "text": [
      "===> train loss: 2.17\n",
      "===> val loss: 2.16, val iou: 0.02\n",
      "=> saving checkpoint\n",
      "Starting epoch 142\n",
      "learning rate: 0.0016410741419312688\n"
     ]
    },
    {
     "name": "stderr",
     "output_type": "stream",
     "text": [
      "100%|██████████| 13/13 [00:05<00:00,  2.31it/s]\n",
      "100%|██████████| 13/13 [00:03<00:00,  4.26it/s]\n"
     ]
    },
    {
     "name": "stdout",
     "output_type": "stream",
     "text": [
      "===> train loss: 2.16\n",
      "===> val loss: 2.16, val iou: 0.02\n",
      "=> saving checkpoint\n",
      "Starting epoch 143\n",
      "learning rate: 0.0016155871057618057\n"
     ]
    },
    {
     "name": "stderr",
     "output_type": "stream",
     "text": [
      "100%|██████████| 13/13 [00:05<00:00,  2.26it/s]\n",
      "100%|██████████| 13/13 [00:03<00:00,  4.26it/s]\n"
     ]
    },
    {
     "name": "stdout",
     "output_type": "stream",
     "text": [
      "===> train loss: 2.16\n",
      "===> val loss: 2.16, val iou: 0.02\n",
      "=> saving checkpoint\n",
      "Starting epoch 144\n",
      "learning rate: 0.0015900553138349974\n"
     ]
    },
    {
     "name": "stderr",
     "output_type": "stream",
     "text": [
      "100%|██████████| 13/13 [00:05<00:00,  2.28it/s]\n",
      "100%|██████████| 13/13 [00:03<00:00,  4.10it/s]\n"
     ]
    },
    {
     "name": "stdout",
     "output_type": "stream",
     "text": [
      "===> train loss: 2.16\n",
      "===> val loss: 2.16, val iou: 0.02\n",
      "=> saving checkpoint\n",
      "Starting epoch 145\n",
      "learning rate: 0.0015644778861416784\n"
     ]
    },
    {
     "name": "stderr",
     "output_type": "stream",
     "text": [
      "100%|██████████| 13/13 [00:05<00:00,  2.28it/s]\n",
      "100%|██████████| 13/13 [00:03<00:00,  4.25it/s]\n"
     ]
    },
    {
     "name": "stdout",
     "output_type": "stream",
     "text": [
      "===> train loss: 2.16\n",
      "===> val loss: 2.16, val iou: 0.02\n",
      "=> saving checkpoint\n",
      "Starting epoch 146\n",
      "learning rate: 0.0015388539090363923\n"
     ]
    },
    {
     "name": "stderr",
     "output_type": "stream",
     "text": [
      "100%|██████████| 13/13 [00:05<00:00,  2.28it/s]\n",
      "100%|██████████| 13/13 [00:03<00:00,  4.15it/s]\n"
     ]
    },
    {
     "name": "stdout",
     "output_type": "stream",
     "text": [
      "===> train loss: 2.16\n",
      "===> val loss: 2.16, val iou: 0.02\n",
      "=> saving checkpoint\n",
      "Starting epoch 147\n",
      "learning rate: 0.001513182433304212\n"
     ]
    },
    {
     "name": "stderr",
     "output_type": "stream",
     "text": [
      "100%|██████████| 13/13 [00:05<00:00,  2.27it/s]\n",
      "100%|██████████| 13/13 [00:03<00:00,  4.23it/s]\n"
     ]
    },
    {
     "name": "stdout",
     "output_type": "stream",
     "text": [
      "===> train loss: 2.16\n",
      "===> val loss: 2.16, val iou: 0.02\n",
      "=> saving checkpoint\n",
      "Starting epoch 148\n",
      "learning rate: 0.0014874624720778262\n"
     ]
    },
    {
     "name": "stderr",
     "output_type": "stream",
     "text": [
      "100%|██████████| 13/13 [00:05<00:00,  2.26it/s]\n",
      "100%|██████████| 13/13 [00:03<00:00,  4.20it/s]\n"
     ]
    },
    {
     "name": "stdout",
     "output_type": "stream",
     "text": [
      "===> train loss: 2.16\n",
      "===> val loss: 2.16, val iou: 0.02\n",
      "=> saving checkpoint\n",
      "Starting epoch 149\n",
      "learning rate: 0.0014616929985901933\n"
     ]
    },
    {
     "name": "stderr",
     "output_type": "stream",
     "text": [
      "100%|██████████| 13/13 [00:05<00:00,  2.31it/s]\n",
      "100%|██████████| 13/13 [00:03<00:00,  4.09it/s]\n"
     ]
    },
    {
     "name": "stdout",
     "output_type": "stream",
     "text": [
      "===> train loss: 2.16\n",
      "===> val loss: 2.16, val iou: 0.03\n",
      "=> saving checkpoint\n",
      "Starting epoch 150\n",
      "learning rate: 0.0014358729437462937\n"
     ]
    },
    {
     "name": "stderr",
     "output_type": "stream",
     "text": [
      "100%|██████████| 13/13 [00:05<00:00,  2.30it/s]\n",
      "100%|██████████| 13/13 [00:03<00:00,  4.07it/s]\n"
     ]
    },
    {
     "name": "stdout",
     "output_type": "stream",
     "text": [
      "===> train loss: 2.16\n",
      "===> val loss: 2.16, val iou: 0.03\n",
      "=> saving checkpoint\n",
      "Starting epoch 151\n",
      "learning rate: 0.001410001193495505\n"
     ]
    },
    {
     "name": "stderr",
     "output_type": "stream",
     "text": [
      "100%|██████████| 13/13 [00:05<00:00,  2.28it/s]\n",
      "100%|██████████| 13/13 [00:03<00:00,  4.19it/s]\n"
     ]
    },
    {
     "name": "stdout",
     "output_type": "stream",
     "text": [
      "===> train loss: 2.16\n",
      "===> val loss: 2.16, val iou: 0.03\n",
      "=> saving checkpoint\n",
      "Starting epoch 152\n",
      "learning rate: 0.0013840765859838176\n"
     ]
    },
    {
     "name": "stderr",
     "output_type": "stream",
     "text": [
      "100%|██████████| 13/13 [00:05<00:00,  2.29it/s]\n",
      "100%|██████████| 13/13 [00:03<00:00,  4.26it/s]\n"
     ]
    },
    {
     "name": "stdout",
     "output_type": "stream",
     "text": [
      "===> train loss: 2.16\n",
      "===> val loss: 2.15, val iou: 0.03\n",
      "=> saving checkpoint\n",
      "Starting epoch 153\n",
      "learning rate: 0.0013580979084624686\n"
     ]
    },
    {
     "name": "stderr",
     "output_type": "stream",
     "text": [
      "100%|██████████| 13/13 [00:05<00:00,  2.27it/s]\n",
      "100%|██████████| 13/13 [00:03<00:00,  4.28it/s]\n"
     ]
    },
    {
     "name": "stdout",
     "output_type": "stream",
     "text": [
      "===> train loss: 2.15\n",
      "===> val loss: 2.15, val iou: 0.03\n",
      "=> saving checkpoint\n",
      "Starting epoch 154\n",
      "learning rate: 0.0013320638939265195\n"
     ]
    },
    {
     "name": "stderr",
     "output_type": "stream",
     "text": [
      "100%|██████████| 13/13 [00:05<00:00,  2.28it/s]\n",
      "100%|██████████| 13/13 [00:03<00:00,  4.22it/s]\n"
     ]
    },
    {
     "name": "stdout",
     "output_type": "stream",
     "text": [
      "===> train loss: 2.15\n",
      "===> val loss: 2.15, val iou: 0.03\n",
      "=> saving checkpoint\n",
      "Starting epoch 155\n",
      "learning rate: 0.0013059732174533927\n"
     ]
    },
    {
     "name": "stderr",
     "output_type": "stream",
     "text": [
      "100%|██████████| 13/13 [00:05<00:00,  2.32it/s]\n",
      "100%|██████████| 13/13 [00:03<00:00,  4.19it/s]\n"
     ]
    },
    {
     "name": "stdout",
     "output_type": "stream",
     "text": [
      "===> train loss: 2.15\n",
      "===> val loss: 2.15, val iou: 0.03\n",
      "=> saving checkpoint\n",
      "Starting epoch 156\n",
      "learning rate: 0.0012798244922073102\n"
     ]
    },
    {
     "name": "stderr",
     "output_type": "stream",
     "text": [
      "100%|██████████| 13/13 [00:05<00:00,  2.29it/s]\n",
      "100%|██████████| 13/13 [00:03<00:00,  4.25it/s]\n"
     ]
    },
    {
     "name": "stdout",
     "output_type": "stream",
     "text": [
      "===> train loss: 2.15\n",
      "===> val loss: 2.15, val iou: 0.03\n",
      "=> saving checkpoint\n",
      "Starting epoch 157\n",
      "learning rate: 0.001253616265070845\n"
     ]
    },
    {
     "name": "stderr",
     "output_type": "stream",
     "text": [
      "100%|██████████| 13/13 [00:05<00:00,  2.29it/s]\n",
      "100%|██████████| 13/13 [00:03<00:00,  4.15it/s]\n"
     ]
    },
    {
     "name": "stdout",
     "output_type": "stream",
     "text": [
      "===> train loss: 2.15\n",
      "===> val loss: 2.15, val iou: 0.03\n",
      "=> saving checkpoint\n",
      "Starting epoch 158\n",
      "learning rate: 0.0012273470118592878\n"
     ]
    },
    {
     "name": "stderr",
     "output_type": "stream",
     "text": [
      "100%|██████████| 13/13 [00:05<00:00,  2.30it/s]\n",
      "100%|██████████| 13/13 [00:03<00:00,  4.29it/s]\n"
     ]
    },
    {
     "name": "stdout",
     "output_type": "stream",
     "text": [
      "===> train loss: 2.15\n",
      "===> val loss: 2.15, val iou: 0.03\n",
      "=> saving checkpoint\n",
      "Starting epoch 159\n",
      "learning rate: 0.001201015132067082\n"
     ]
    },
    {
     "name": "stderr",
     "output_type": "stream",
     "text": [
      "100%|██████████| 13/13 [00:05<00:00,  2.31it/s]\n",
      "100%|██████████| 13/13 [00:03<00:00,  4.27it/s]\n"
     ]
    },
    {
     "name": "stdout",
     "output_type": "stream",
     "text": [
      "===> train loss: 2.15\n",
      "===> val loss: 2.15, val iou: 0.03\n",
      "=> saving checkpoint\n",
      "Starting epoch 160\n",
      "learning rate: 0.0011746189430880188\n"
     ]
    },
    {
     "name": "stderr",
     "output_type": "stream",
     "text": [
      "100%|██████████| 13/13 [00:05<00:00,  2.28it/s]\n",
      "100%|██████████| 13/13 [00:03<00:00,  4.24it/s]\n"
     ]
    },
    {
     "name": "stdout",
     "output_type": "stream",
     "text": [
      "===> train loss: 2.15\n",
      "===> val loss: 2.15, val iou: 0.03\n",
      "=> saving checkpoint\n",
      "Starting epoch 161\n",
      "learning rate: 0.0011481566738419757\n"
     ]
    },
    {
     "name": "stderr",
     "output_type": "stream",
     "text": [
      "100%|██████████| 13/13 [00:05<00:00,  2.33it/s]\n",
      "100%|██████████| 13/13 [00:03<00:00,  4.26it/s]\n"
     ]
    },
    {
     "name": "stdout",
     "output_type": "stream",
     "text": [
      "===> train loss: 2.15\n",
      "===> val loss: 2.15, val iou: 0.03\n",
      "=> saving checkpoint\n",
      "Starting epoch 162\n",
      "learning rate: 0.0011216264577304455\n"
     ]
    },
    {
     "name": "stderr",
     "output_type": "stream",
     "text": [
      "100%|██████████| 13/13 [00:05<00:00,  2.28it/s]\n",
      "100%|██████████| 13/13 [00:03<00:00,  4.07it/s]\n"
     ]
    },
    {
     "name": "stdout",
     "output_type": "stream",
     "text": [
      "===> train loss: 2.15\n",
      "===> val loss: 2.15, val iou: 0.03\n",
      "=> saving checkpoint\n",
      "Starting epoch 163\n",
      "learning rate: 0.001095026324830597\n"
     ]
    },
    {
     "name": "stderr",
     "output_type": "stream",
     "text": [
      "100%|██████████| 13/13 [00:05<00:00,  2.28it/s]\n",
      "100%|██████████| 13/13 [00:03<00:00,  4.11it/s]\n"
     ]
    },
    {
     "name": "stdout",
     "output_type": "stream",
     "text": [
      "===> train loss: 2.15\n",
      "===> val loss: 2.15, val iou: 0.03\n",
      "=> saving checkpoint\n",
      "Starting epoch 164\n",
      "learning rate: 0.0010683541932226925\n"
     ]
    },
    {
     "name": "stderr",
     "output_type": "stream",
     "text": [
      "100%|██████████| 13/13 [00:05<00:00,  2.25it/s]\n",
      "100%|██████████| 13/13 [00:03<00:00,  4.19it/s]\n"
     ]
    },
    {
     "name": "stdout",
     "output_type": "stream",
     "text": [
      "===> train loss: 2.15\n",
      "===> val loss: 2.15, val iou: 0.03\n",
      "=> saving checkpoint\n",
      "Starting epoch 165\n",
      "learning rate: 0.0010416078593278445\n"
     ]
    },
    {
     "name": "stderr",
     "output_type": "stream",
     "text": [
      "100%|██████████| 13/13 [00:05<00:00,  2.30it/s]\n",
      "100%|██████████| 13/13 [00:03<00:00,  4.22it/s]\n"
     ]
    },
    {
     "name": "stdout",
     "output_type": "stream",
     "text": [
      "===> train loss: 2.15\n",
      "===> val loss: 2.15, val iou: 0.03\n",
      "=> saving checkpoint\n",
      "Starting epoch 166\n",
      "learning rate: 0.00101478498711157\n"
     ]
    },
    {
     "name": "stderr",
     "output_type": "stream",
     "text": [
      "100%|██████████| 13/13 [00:05<00:00,  2.33it/s]\n",
      "100%|██████████| 13/13 [00:03<00:00,  4.31it/s]\n"
     ]
    },
    {
     "name": "stdout",
     "output_type": "stream",
     "text": [
      "===> train loss: 2.15\n",
      "===> val loss: 2.15, val iou: 0.03\n",
      "=> saving checkpoint\n",
      "Starting epoch 167\n",
      "learning rate: 0.000987883095982645\n"
     ]
    },
    {
     "name": "stderr",
     "output_type": "stream",
     "text": [
      "100%|██████████| 13/13 [00:05<00:00,  2.31it/s]\n",
      "100%|██████████| 13/13 [00:03<00:00,  4.22it/s]\n"
     ]
    },
    {
     "name": "stdout",
     "output_type": "stream",
     "text": [
      "===> train loss: 2.15\n",
      "===> val loss: 2.15, val iou: 0.03\n",
      "=> saving checkpoint\n",
      "Starting epoch 168\n",
      "learning rate: 0.0009608995471851452\n"
     ]
    },
    {
     "name": "stderr",
     "output_type": "stream",
     "text": [
      "100%|██████████| 13/13 [00:05<00:00,  2.31it/s]\n",
      "100%|██████████| 13/13 [00:03<00:00,  4.21it/s]\n"
     ]
    },
    {
     "name": "stdout",
     "output_type": "stream",
     "text": [
      "===> train loss: 2.15\n",
      "===> val loss: 2.15, val iou: 0.03\n",
      "=> saving checkpoint\n",
      "Starting epoch 169\n",
      "learning rate: 0.0009338315284429349\n"
     ]
    },
    {
     "name": "stderr",
     "output_type": "stream",
     "text": [
      "100%|██████████| 13/13 [00:05<00:00,  2.29it/s]\n",
      "100%|██████████| 13/13 [00:03<00:00,  4.31it/s]\n"
     ]
    },
    {
     "name": "stdout",
     "output_type": "stream",
     "text": [
      "===> train loss: 2.15\n",
      "===> val loss: 2.14, val iou: 0.03\n",
      "=> saving checkpoint\n",
      "Starting epoch 170\n",
      "learning rate: 0.0009066760365683728\n"
     ]
    },
    {
     "name": "stderr",
     "output_type": "stream",
     "text": [
      "100%|██████████| 13/13 [00:05<00:00,  2.31it/s]\n",
      "100%|██████████| 13/13 [00:03<00:00,  4.22it/s]\n"
     ]
    },
    {
     "name": "stdout",
     "output_type": "stream",
     "text": [
      "===> train loss: 2.14\n",
      "===> val loss: 2.14, val iou: 0.03\n",
      "=> saving checkpoint\n",
      "Starting epoch 171\n",
      "learning rate: 0.000879429857688226\n"
     ]
    },
    {
     "name": "stderr",
     "output_type": "stream",
     "text": [
      "100%|██████████| 13/13 [00:05<00:00,  2.32it/s]\n",
      "100%|██████████| 13/13 [00:03<00:00,  4.12it/s]\n"
     ]
    },
    {
     "name": "stdout",
     "output_type": "stream",
     "text": [
      "===> train loss: 2.14\n",
      "===> val loss: 2.14, val iou: 0.03\n",
      "=> saving checkpoint\n",
      "Starting epoch 172\n",
      "learning rate: 0.0008520895446665837\n"
     ]
    },
    {
     "name": "stderr",
     "output_type": "stream",
     "text": [
      "100%|██████████| 13/13 [00:05<00:00,  2.32it/s]\n",
      "100%|██████████| 13/13 [00:03<00:00,  4.25it/s]\n"
     ]
    },
    {
     "name": "stdout",
     "output_type": "stream",
     "text": [
      "===> train loss: 2.14\n",
      "===> val loss: 2.14, val iou: 0.03\n",
      "=> saving checkpoint\n",
      "Starting epoch 173\n",
      "learning rate: 0.0008246513912127221\n"
     ]
    },
    {
     "name": "stderr",
     "output_type": "stream",
     "text": [
      "100%|██████████| 13/13 [00:05<00:00,  2.31it/s]\n",
      "100%|██████████| 13/13 [00:03<00:00,  4.21it/s]\n"
     ]
    },
    {
     "name": "stdout",
     "output_type": "stream",
     "text": [
      "===> train loss: 2.14\n",
      "===> val loss: 2.14, val iou: 0.03\n",
      "=> saving checkpoint\n",
      "Starting epoch 174\n",
      "learning rate: 0.0007971114020458232\n"
     ]
    },
    {
     "name": "stderr",
     "output_type": "stream",
     "text": [
      "100%|██████████| 13/13 [00:05<00:00,  2.28it/s]\n",
      "100%|██████████| 13/13 [00:03<00:00,  4.17it/s]\n"
     ]
    },
    {
     "name": "stdout",
     "output_type": "stream",
     "text": [
      "===> train loss: 2.14\n",
      "===> val loss: 2.14, val iou: 0.03\n",
      "=> saving checkpoint\n",
      "Starting epoch 175\n",
      "learning rate: 0.0007694652583405727\n"
     ]
    },
    {
     "name": "stderr",
     "output_type": "stream",
     "text": [
      "100%|██████████| 13/13 [00:05<00:00,  2.32it/s]\n",
      "100%|██████████| 13/13 [00:03<00:00,  4.13it/s]\n"
     ]
    },
    {
     "name": "stdout",
     "output_type": "stream",
     "text": [
      "===> train loss: 2.14\n",
      "===> val loss: 2.14, val iou: 0.03\n",
      "=> saving checkpoint\n",
      "Starting epoch 176\n",
      "learning rate: 0.0007417082774876436\n"
     ]
    },
    {
     "name": "stderr",
     "output_type": "stream",
     "text": [
      "100%|██████████| 13/13 [00:05<00:00,  2.29it/s]\n",
      "100%|██████████| 13/13 [00:03<00:00,  4.11it/s]\n"
     ]
    },
    {
     "name": "stdout",
     "output_type": "stream",
     "text": [
      "===> train loss: 2.14\n",
      "===> val loss: 2.14, val iou: 0.03\n",
      "=> saving checkpoint\n",
      "Starting epoch 177\n",
      "learning rate: 0.0007138353659566017\n"
     ]
    },
    {
     "name": "stderr",
     "output_type": "stream",
     "text": [
      "100%|██████████| 13/13 [00:05<00:00,  2.25it/s]\n",
      "100%|██████████| 13/13 [00:03<00:00,  4.28it/s]\n"
     ]
    },
    {
     "name": "stdout",
     "output_type": "stream",
     "text": [
      "===> train loss: 2.14\n",
      "===> val loss: 2.14, val iou: 0.03\n",
      "=> saving checkpoint\n",
      "Starting epoch 178\n",
      "learning rate: 0.0006858409637258909\n"
     ]
    },
    {
     "name": "stderr",
     "output_type": "stream",
     "text": [
      "100%|██████████| 13/13 [00:05<00:00,  2.32it/s]\n",
      "100%|██████████| 13/13 [00:03<00:00,  4.21it/s]\n"
     ]
    },
    {
     "name": "stdout",
     "output_type": "stream",
     "text": [
      "===> train loss: 2.14\n",
      "===> val loss: 2.14, val iou: 0.03\n",
      "=> saving checkpoint\n",
      "Starting epoch 179\n",
      "learning rate: 0.0006577189783170008\n"
     ]
    },
    {
     "name": "stderr",
     "output_type": "stream",
     "text": [
      "100%|██████████| 13/13 [00:05<00:00,  2.29it/s]\n",
      "100%|██████████| 13/13 [00:03<00:00,  4.30it/s]\n"
     ]
    },
    {
     "name": "stdout",
     "output_type": "stream",
     "text": [
      "===> train loss: 2.14\n",
      "===> val loss: 2.14, val iou: 0.03\n",
      "=> saving checkpoint\n",
      "Starting epoch 180\n",
      "learning rate: 0.0006294627058970835\n"
     ]
    },
    {
     "name": "stderr",
     "output_type": "stream",
     "text": [
      "100%|██████████| 13/13 [00:05<00:00,  2.31it/s]\n",
      "100%|██████████| 13/13 [00:03<00:00,  4.22it/s]\n"
     ]
    },
    {
     "name": "stdout",
     "output_type": "stream",
     "text": [
      "===> train loss: 2.14\n",
      "===> val loss: 2.14, val iou: 0.03\n",
      "=> saving checkpoint\n",
      "Starting epoch 181\n",
      "learning rate: 0.0006010647361370384\n"
     ]
    },
    {
     "name": "stderr",
     "output_type": "stream",
     "text": [
      "100%|██████████| 13/13 [00:05<00:00,  2.31it/s]\n",
      "100%|██████████| 13/13 [00:03<00:00,  4.08it/s]\n"
     ]
    },
    {
     "name": "stdout",
     "output_type": "stream",
     "text": [
      "===> train loss: 2.14\n",
      "===> val loss: 2.14, val iou: 0.03\n",
      "=> saving checkpoint\n",
      "Starting epoch 182\n",
      "learning rate: 0.0005725168364427263\n"
     ]
    },
    {
     "name": "stderr",
     "output_type": "stream",
     "text": [
      "100%|██████████| 13/13 [00:05<00:00,  2.32it/s]\n",
      "100%|██████████| 13/13 [00:03<00:00,  4.21it/s]\n"
     ]
    },
    {
     "name": "stdout",
     "output_type": "stream",
     "text": [
      "===> train loss: 2.14\n",
      "===> val loss: 2.14, val iou: 0.03\n",
      "=> saving checkpoint\n",
      "Starting epoch 183\n",
      "learning rate: 0.0005438098096832071\n"
     ]
    },
    {
     "name": "stderr",
     "output_type": "stream",
     "text": [
      "100%|██████████| 13/13 [00:05<00:00,  2.33it/s]\n",
      "100%|██████████| 13/13 [00:03<00:00,  4.26it/s]\n"
     ]
    },
    {
     "name": "stdout",
     "output_type": "stream",
     "text": [
      "===> train loss: 2.14\n",
      "===> val loss: 2.14, val iou: 0.03\n",
      "=> saving checkpoint\n",
      "Starting epoch 184\n",
      "learning rate: 0.0005149333174180893\n"
     ]
    },
    {
     "name": "stderr",
     "output_type": "stream",
     "text": [
      "100%|██████████| 13/13 [00:05<00:00,  2.33it/s]\n",
      "100%|██████████| 13/13 [00:03<00:00,  4.10it/s]\n"
     ]
    },
    {
     "name": "stdout",
     "output_type": "stream",
     "text": [
      "===> train loss: 2.14\n",
      "===> val loss: 2.14, val iou: 0.03\n",
      "=> saving checkpoint\n",
      "Starting epoch 185\n",
      "learning rate: 0.0004858756575557835\n"
     ]
    },
    {
     "name": "stderr",
     "output_type": "stream",
     "text": [
      "100%|██████████| 13/13 [00:05<00:00,  2.29it/s]\n",
      "100%|██████████| 13/13 [00:03<00:00,  4.27it/s]\n"
     ]
    },
    {
     "name": "stdout",
     "output_type": "stream",
     "text": [
      "===> train loss: 2.14\n",
      "===> val loss: 2.14, val iou: 0.03\n",
      "=> saving checkpoint\n",
      "Starting epoch 186\n",
      "learning rate: 0.0004566234808391386\n"
     ]
    },
    {
     "name": "stderr",
     "output_type": "stream",
     "text": [
      "100%|██████████| 13/13 [00:05<00:00,  2.27it/s]\n",
      "100%|██████████| 13/13 [00:03<00:00,  4.28it/s]\n"
     ]
    },
    {
     "name": "stdout",
     "output_type": "stream",
     "text": [
      "===> train loss: 2.14\n",
      "===> val loss: 2.14, val iou: 0.03\n",
      "=> saving checkpoint\n",
      "Starting epoch 187\n",
      "learning rate: 0.0004271614236989052\n"
     ]
    },
    {
     "name": "stderr",
     "output_type": "stream",
     "text": [
      "100%|██████████| 13/13 [00:05<00:00,  2.30it/s]\n",
      "100%|██████████| 13/13 [00:03<00:00,  4.27it/s]\n"
     ]
    },
    {
     "name": "stdout",
     "output_type": "stream",
     "text": [
      "===> train loss: 2.14\n",
      "===> val loss: 2.14, val iou: 0.03\n",
      "=> saving checkpoint\n",
      "Starting epoch 188\n",
      "learning rate: 0.0003974716243773811\n"
     ]
    },
    {
     "name": "stderr",
     "output_type": "stream",
     "text": [
      "100%|██████████| 13/13 [00:05<00:00,  2.29it/s]\n",
      "100%|██████████| 13/13 [00:03<00:00,  4.25it/s]\n"
     ]
    },
    {
     "name": "stdout",
     "output_type": "stream",
     "text": [
      "===> train loss: 2.14\n",
      "===> val loss: 2.14, val iou: 0.03\n",
      "=> saving checkpoint\n",
      "Starting epoch 189\n",
      "learning rate: 0.0003675330722208635\n"
     ]
    },
    {
     "name": "stderr",
     "output_type": "stream",
     "text": [
      "100%|██████████| 13/13 [00:05<00:00,  2.28it/s]\n",
      "100%|██████████| 13/13 [00:03<00:00,  4.22it/s]\n"
     ]
    },
    {
     "name": "stdout",
     "output_type": "stream",
     "text": [
      "===> train loss: 2.14\n",
      "===> val loss: 2.14, val iou: 0.03\n",
      "=> saving checkpoint\n",
      "Starting epoch 190\n",
      "learning rate: 0.0003373207119183911\n"
     ]
    },
    {
     "name": "stderr",
     "output_type": "stream",
     "text": [
      "100%|██████████| 13/13 [00:05<00:00,  2.30it/s]\n",
      "100%|██████████| 13/13 [00:03<00:00,  4.13it/s]\n"
     ]
    },
    {
     "name": "stdout",
     "output_type": "stream",
     "text": [
      "===> train loss: 2.14\n",
      "===> val loss: 2.14, val iou: 0.03\n",
      "=> saving checkpoint\n",
      "Starting epoch 191\n",
      "learning rate: 0.000306804176077273\n"
     ]
    },
    {
     "name": "stderr",
     "output_type": "stream",
     "text": [
      "100%|██████████| 13/13 [00:05<00:00,  2.26it/s]\n",
      "100%|██████████| 13/13 [00:03<00:00,  4.26it/s]\n"
     ]
    },
    {
     "name": "stdout",
     "output_type": "stream",
     "text": [
      "===> train loss: 2.14\n",
      "===> val loss: 2.14, val iou: 0.03\n",
      "=> saving checkpoint\n",
      "Starting epoch 192\n",
      "learning rate: 0.0002759459322922432\n"
     ]
    },
    {
     "name": "stderr",
     "output_type": "stream",
     "text": [
      "100%|██████████| 13/13 [00:05<00:00,  2.30it/s]\n",
      "100%|██████████| 13/13 [00:03<00:00,  4.08it/s]\n"
     ]
    },
    {
     "name": "stdout",
     "output_type": "stream",
     "text": [
      "===> train loss: 2.14\n",
      "===> val loss: 2.14, val iou: 0.03\n",
      "=> saving checkpoint\n",
      "Starting epoch 193\n",
      "learning rate: 0.0002446984645671695\n"
     ]
    },
    {
     "name": "stderr",
     "output_type": "stream",
     "text": [
      "100%|██████████| 13/13 [00:05<00:00,  2.28it/s]\n",
      "100%|██████████| 13/13 [00:03<00:00,  4.21it/s]\n"
     ]
    },
    {
     "name": "stdout",
     "output_type": "stream",
     "text": [
      "===> train loss: 2.14\n",
      "===> val loss: 2.14, val iou: 0.03\n",
      "=> saving checkpoint\n",
      "Starting epoch 194\n",
      "learning rate: 0.00021299976955943534\n"
     ]
    },
    {
     "name": "stderr",
     "output_type": "stream",
     "text": [
      "100%|██████████| 13/13 [00:05<00:00,  2.28it/s]\n",
      "100%|██████████| 13/13 [00:03<00:00,  4.29it/s]\n"
     ]
    },
    {
     "name": "stdout",
     "output_type": "stream",
     "text": [
      "===> train loss: 2.14\n",
      "===> val loss: 2.14, val iou: 0.03\n",
      "=> saving checkpoint\n",
      "Starting epoch 195\n",
      "learning rate: 0.00018076569369899074\n"
     ]
    },
    {
     "name": "stderr",
     "output_type": "stream",
     "text": [
      "100%|██████████| 13/13 [00:05<00:00,  2.31it/s]\n",
      "100%|██████████| 13/13 [00:03<00:00,  4.13it/s]\n"
     ]
    },
    {
     "name": "stdout",
     "output_type": "stream",
     "text": [
      "===> train loss: 2.14\n",
      "===> val loss: 2.14, val iou: 0.03\n",
      "=> saving checkpoint\n",
      "Starting epoch 196\n",
      "learning rate: 0.0001478757636628315\n"
     ]
    },
    {
     "name": "stderr",
     "output_type": "stream",
     "text": [
      "100%|██████████| 13/13 [00:05<00:00,  2.30it/s]\n",
      "100%|██████████| 13/13 [00:03<00:00,  4.08it/s]\n"
     ]
    },
    {
     "name": "stdout",
     "output_type": "stream",
     "text": [
      "===> train loss: 2.14\n",
      "===> val loss: 2.14, val iou: 0.03\n",
      "=> saving checkpoint\n",
      "Starting epoch 197\n",
      "learning rate: 0.00011414375027007427\n"
     ]
    },
    {
     "name": "stderr",
     "output_type": "stream",
     "text": [
      "100%|██████████| 13/13 [00:05<00:00,  2.27it/s]\n",
      "100%|██████████| 13/13 [00:03<00:00,  4.15it/s]\n"
     ]
    },
    {
     "name": "stdout",
     "output_type": "stream",
     "text": [
      "===> train loss: 2.14\n",
      "===> val loss: 2.14, val iou: 0.03\n",
      "=> saving checkpoint\n",
      "Starting epoch 198\n",
      "learning rate: 7.924465962305572e-05\n"
     ]
    },
    {
     "name": "stderr",
     "output_type": "stream",
     "text": [
      "100%|██████████| 13/13 [00:05<00:00,  2.28it/s]\n",
      "100%|██████████| 13/13 [00:03<00:00,  4.23it/s]\n"
     ]
    },
    {
     "name": "stdout",
     "output_type": "stream",
     "text": [
      "===> train loss: 2.14\n",
      "===> val loss: 2.14, val iou: 0.03\n",
      "=> saving checkpoint\n",
      "Starting epoch 199\n",
      "learning rate: 4.2466161615856206e-05\n"
     ]
    },
    {
     "name": "stderr",
     "output_type": "stream",
     "text": [
      "100%|██████████| 13/13 [00:05<00:00,  2.28it/s]\n",
      "100%|██████████| 13/13 [00:03<00:00,  4.19it/s]\n"
     ]
    },
    {
     "name": "stdout",
     "output_type": "stream",
     "text": [
      "===> train loss: 2.14\n",
      "===> val loss: 2.14, val iou: 0.03\n",
      "=> saving checkpoint\n",
      "Starting epoch 200\n",
      "learning rate: 0.0\n"
     ]
    },
    {
     "name": "stderr",
     "output_type": "stream",
     "text": [
      "100%|██████████| 13/13 [00:05<00:00,  2.27it/s]\n",
      "100%|██████████| 13/13 [00:03<00:00,  4.17it/s]\n"
     ]
    },
    {
     "name": "stdout",
     "output_type": "stream",
     "text": [
      "===> train loss: 2.14\n",
      "===> val loss: 2.14, val iou: 0.03\n",
      "=> saving checkpoint\n",
      "Starting epoch 201\n",
      "learning rate: (-4.038771972680238e-05+1.312276562517239e-05j)\n"
     ]
    },
    {
     "name": "stderr",
     "output_type": "stream",
     "text": [
      " 54%|█████▍    | 7/13 [00:03<00:03,  1.88it/s]\n"
     ]
    },
    {
     "ename": "RuntimeError",
     "evalue": "value cannot be converted to type float without overflow",
     "output_type": "error",
     "traceback": [
      "\u001b[0;31m---------------------------------------------------------------------------\u001b[0m",
      "\u001b[0;31mRuntimeError\u001b[0m                              Traceback (most recent call last)",
      "Cell \u001b[0;32mIn[15], line 1\u001b[0m\n\u001b[0;32m----> 1\u001b[0m \u001b[43mbegin_training\u001b[49m\u001b[43m(\u001b[49m\u001b[43mtrain_dataset_dict\u001b[49m\u001b[43m,\u001b[49m\u001b[43m \u001b[49m\u001b[43mval_dataset_dict\u001b[49m\u001b[43m,\u001b[49m\u001b[43m \u001b[49m\u001b[43mmodel_dict\u001b[49m\u001b[43m,\u001b[49m\u001b[43m \u001b[49m\u001b[43mloss_dict\u001b[49m\u001b[43m,\u001b[49m\u001b[43m \u001b[49m\u001b[43mconfigs\u001b[49m\u001b[43m)\u001b[49m\n",
      "File \u001b[0;32m~/Documents/VS/EmbedSegScrolls/EmbedSeg/train.py:1055\u001b[0m, in \u001b[0;36mbegin_training\u001b[0;34m(train_dataset_dict, val_dataset_dict, model_dict, loss_dict, configs, color_map)\u001b[0m\n\u001b[1;32m   1053\u001b[0m \u001b[38;5;28;01melse\u001b[39;00m:\n\u001b[1;32m   1054\u001b[0m     \u001b[38;5;28;01mif\u001b[39;00m train_dataset_dict[\u001b[38;5;124m\"\u001b[39m\u001b[38;5;124mvirtual_batch_multiplier\u001b[39m\u001b[38;5;124m\"\u001b[39m] \u001b[38;5;241m>\u001b[39m \u001b[38;5;241m1\u001b[39m:\n\u001b[0;32m-> 1055\u001b[0m         train_loss \u001b[38;5;241m=\u001b[39m \u001b[43mtrain_3d\u001b[49m\u001b[43m(\u001b[49m\n\u001b[1;32m   1056\u001b[0m \u001b[43m            \u001b[49m\u001b[43mvirtual_batch_multiplier\u001b[49m\u001b[38;5;241;43m=\u001b[39;49m\u001b[43mtrain_dataset_dict\u001b[49m\u001b[43m[\u001b[49m\n\u001b[1;32m   1057\u001b[0m \u001b[43m                \u001b[49m\u001b[38;5;124;43m\"\u001b[39;49m\u001b[38;5;124;43mvirtual_batch_multiplier\u001b[39;49m\u001b[38;5;124;43m\"\u001b[39;49m\n\u001b[1;32m   1058\u001b[0m \u001b[43m            \u001b[49m\u001b[43m]\u001b[49m\u001b[43m,\u001b[49m\n\u001b[1;32m   1059\u001b[0m \u001b[43m            \u001b[49m\u001b[43mone_hot\u001b[49m\u001b[38;5;241;43m=\u001b[39;49m\u001b[43mconfigs\u001b[49m\u001b[43m[\u001b[49m\u001b[38;5;124;43m\"\u001b[39;49m\u001b[38;5;124;43mone_hot\u001b[39;49m\u001b[38;5;124;43m\"\u001b[39;49m\u001b[43m]\u001b[49m\u001b[43m,\u001b[49m\n\u001b[1;32m   1060\u001b[0m \u001b[43m            \u001b[49m\u001b[43mn_sigma\u001b[49m\u001b[38;5;241;43m=\u001b[39;49m\u001b[43mloss_dict\u001b[49m\u001b[43m[\u001b[49m\u001b[38;5;124;43m\"\u001b[39;49m\u001b[38;5;124;43mlossOpts\u001b[39;49m\u001b[38;5;124;43m\"\u001b[39;49m\u001b[43m]\u001b[49m\u001b[43m[\u001b[49m\u001b[38;5;124;43m\"\u001b[39;49m\u001b[38;5;124;43mn_sigma\u001b[39;49m\u001b[38;5;124;43m\"\u001b[39;49m\u001b[43m]\u001b[49m\u001b[43m,\u001b[49m\n\u001b[1;32m   1061\u001b[0m \u001b[43m            \u001b[49m\u001b[43margs\u001b[49m\u001b[38;5;241;43m=\u001b[39;49m\u001b[43mloss_dict\u001b[49m\u001b[43m[\u001b[49m\u001b[38;5;124;43m\"\u001b[39;49m\u001b[38;5;124;43mlossW\u001b[39;49m\u001b[38;5;124;43m\"\u001b[39;49m\u001b[43m]\u001b[49m\u001b[43m,\u001b[49m\n\u001b[1;32m   1062\u001b[0m \u001b[43m            \u001b[49m\u001b[43mdevice\u001b[49m\u001b[38;5;241;43m=\u001b[39;49m\u001b[43mdevice\u001b[49m\u001b[43m,\u001b[49m\n\u001b[1;32m   1063\u001b[0m \u001b[43m        \u001b[49m\u001b[43m)\u001b[49m\n\u001b[1;32m   1064\u001b[0m     \u001b[38;5;28;01melif\u001b[39;00m train_dataset_dict[\u001b[38;5;124m\"\u001b[39m\u001b[38;5;124mvirtual_batch_multiplier\u001b[39m\u001b[38;5;124m\"\u001b[39m] \u001b[38;5;241m==\u001b[39m \u001b[38;5;241m1\u001b[39m:\n\u001b[1;32m   1065\u001b[0m         train_loss \u001b[38;5;241m=\u001b[39m train_vanilla_3d(\n\u001b[1;32m   1066\u001b[0m             display\u001b[38;5;241m=\u001b[39mconfigs[\u001b[38;5;124m\"\u001b[39m\u001b[38;5;124mdisplay\u001b[39m\u001b[38;5;124m\"\u001b[39m],\n\u001b[1;32m   1067\u001b[0m             display_embedding\u001b[38;5;241m=\u001b[39mconfigs[\u001b[38;5;124m\"\u001b[39m\u001b[38;5;124mdisplay_embedding\u001b[39m\u001b[38;5;124m\"\u001b[39m],\n\u001b[0;32m   (...)\u001b[0m\n\u001b[1;32m   1079\u001b[0m             device\u001b[38;5;241m=\u001b[39mdevice,\n\u001b[1;32m   1080\u001b[0m         )\n",
      "File \u001b[0;32m~/Documents/VS/EmbedSegScrolls/EmbedSeg/train.py:298\u001b[0m, in \u001b[0;36mtrain_3d\u001b[0;34m(virtual_batch_multiplier, one_hot, n_sigma, args, device)\u001b[0m\n\u001b[1;32m    294\u001b[0m \u001b[38;5;28;01mif\u001b[39;00m (i \u001b[38;5;241m+\u001b[39m \u001b[38;5;241m1\u001b[39m) \u001b[38;5;241m%\u001b[39m virtual_batch_multiplier \u001b[38;5;241m==\u001b[39m \u001b[38;5;241m0\u001b[39m:\n\u001b[1;32m    295\u001b[0m     \u001b[38;5;66;03m# Wait for several backward steps\u001b[39;00m\n\u001b[1;32m    296\u001b[0m     \u001b[38;5;66;03m# Clip gradients to prevent overflow\u001b[39;00m\n\u001b[1;32m    297\u001b[0m     torch\u001b[38;5;241m.\u001b[39mnn\u001b[38;5;241m.\u001b[39mutils\u001b[38;5;241m.\u001b[39mclip_grad_norm_(model\u001b[38;5;241m.\u001b[39mparameters(), max_norm\u001b[38;5;241m=\u001b[39m\u001b[38;5;241m1.0\u001b[39m)\n\u001b[0;32m--> 298\u001b[0m     \u001b[43mscaler\u001b[49m\u001b[38;5;241;43m.\u001b[39;49m\u001b[43mstep\u001b[49m\u001b[43m(\u001b[49m\u001b[43moptimizer\u001b[49m\u001b[43m)\u001b[49m \u001b[38;5;66;03m# Now we can do an optimizer step\u001b[39;00m\n\u001b[1;32m    299\u001b[0m     scaler\u001b[38;5;241m.\u001b[39mupdate()\n\u001b[1;32m    300\u001b[0m     optimizer\u001b[38;5;241m.\u001b[39mzero_grad()  \u001b[38;5;66;03m# Reset gradients tensors\u001b[39;00m\n",
      "File \u001b[0;32m~/anaconda3/envs/embedSegGPU/lib/python3.12/site-packages/torch/cuda/amp/grad_scaler.py:452\u001b[0m, in \u001b[0;36mGradScaler.step\u001b[0;34m(self, optimizer, *args, **kwargs)\u001b[0m\n\u001b[1;32m    446\u001b[0m     \u001b[38;5;28mself\u001b[39m\u001b[38;5;241m.\u001b[39munscale_(optimizer)\n\u001b[1;32m    448\u001b[0m \u001b[38;5;28;01massert\u001b[39;00m (\n\u001b[1;32m    449\u001b[0m     \u001b[38;5;28mlen\u001b[39m(optimizer_state[\u001b[38;5;124m\"\u001b[39m\u001b[38;5;124mfound_inf_per_device\u001b[39m\u001b[38;5;124m\"\u001b[39m]) \u001b[38;5;241m>\u001b[39m \u001b[38;5;241m0\u001b[39m\n\u001b[1;32m    450\u001b[0m ), \u001b[38;5;124m\"\u001b[39m\u001b[38;5;124mNo inf checks were recorded for this optimizer.\u001b[39m\u001b[38;5;124m\"\u001b[39m\n\u001b[0;32m--> 452\u001b[0m retval \u001b[38;5;241m=\u001b[39m \u001b[38;5;28;43mself\u001b[39;49m\u001b[38;5;241;43m.\u001b[39;49m\u001b[43m_maybe_opt_step\u001b[49m\u001b[43m(\u001b[49m\u001b[43moptimizer\u001b[49m\u001b[43m,\u001b[49m\u001b[43m \u001b[49m\u001b[43moptimizer_state\u001b[49m\u001b[43m,\u001b[49m\u001b[43m \u001b[49m\u001b[38;5;241;43m*\u001b[39;49m\u001b[43margs\u001b[49m\u001b[43m,\u001b[49m\u001b[43m \u001b[49m\u001b[38;5;241;43m*\u001b[39;49m\u001b[38;5;241;43m*\u001b[39;49m\u001b[43mkwargs\u001b[49m\u001b[43m)\u001b[49m\n\u001b[1;32m    454\u001b[0m optimizer_state[\u001b[38;5;124m\"\u001b[39m\u001b[38;5;124mstage\u001b[39m\u001b[38;5;124m\"\u001b[39m] \u001b[38;5;241m=\u001b[39m OptState\u001b[38;5;241m.\u001b[39mSTEPPED\n\u001b[1;32m    456\u001b[0m \u001b[38;5;28;01mreturn\u001b[39;00m retval\n",
      "File \u001b[0;32m~/anaconda3/envs/embedSegGPU/lib/python3.12/site-packages/torch/cuda/amp/grad_scaler.py:350\u001b[0m, in \u001b[0;36mGradScaler._maybe_opt_step\u001b[0;34m(self, optimizer, optimizer_state, *args, **kwargs)\u001b[0m\n\u001b[1;32m    348\u001b[0m retval: Optional[\u001b[38;5;28mfloat\u001b[39m] \u001b[38;5;241m=\u001b[39m \u001b[38;5;28;01mNone\u001b[39;00m\n\u001b[1;32m    349\u001b[0m \u001b[38;5;28;01mif\u001b[39;00m \u001b[38;5;129;01mnot\u001b[39;00m \u001b[38;5;28msum\u001b[39m(v\u001b[38;5;241m.\u001b[39mitem() \u001b[38;5;28;01mfor\u001b[39;00m v \u001b[38;5;129;01min\u001b[39;00m optimizer_state[\u001b[38;5;124m\"\u001b[39m\u001b[38;5;124mfound_inf_per_device\u001b[39m\u001b[38;5;124m\"\u001b[39m]\u001b[38;5;241m.\u001b[39mvalues()):\n\u001b[0;32m--> 350\u001b[0m     retval \u001b[38;5;241m=\u001b[39m \u001b[43moptimizer\u001b[49m\u001b[38;5;241;43m.\u001b[39;49m\u001b[43mstep\u001b[49m\u001b[43m(\u001b[49m\u001b[38;5;241;43m*\u001b[39;49m\u001b[43margs\u001b[49m\u001b[43m,\u001b[49m\u001b[43m \u001b[49m\u001b[38;5;241;43m*\u001b[39;49m\u001b[38;5;241;43m*\u001b[39;49m\u001b[43mkwargs\u001b[49m\u001b[43m)\u001b[49m\n\u001b[1;32m    351\u001b[0m \u001b[38;5;28;01mreturn\u001b[39;00m retval\n",
      "File \u001b[0;32m~/anaconda3/envs/embedSegGPU/lib/python3.12/site-packages/torch/optim/lr_scheduler.py:75\u001b[0m, in \u001b[0;36mLRScheduler.__init__.<locals>.with_counter.<locals>.wrapper\u001b[0;34m(*args, **kwargs)\u001b[0m\n\u001b[1;32m     73\u001b[0m instance\u001b[38;5;241m.\u001b[39m_step_count \u001b[38;5;241m+\u001b[39m\u001b[38;5;241m=\u001b[39m \u001b[38;5;241m1\u001b[39m\n\u001b[1;32m     74\u001b[0m wrapped \u001b[38;5;241m=\u001b[39m func\u001b[38;5;241m.\u001b[39m\u001b[38;5;21m__get__\u001b[39m(instance, \u001b[38;5;28mcls\u001b[39m)\n\u001b[0;32m---> 75\u001b[0m \u001b[38;5;28;01mreturn\u001b[39;00m \u001b[43mwrapped\u001b[49m\u001b[43m(\u001b[49m\u001b[38;5;241;43m*\u001b[39;49m\u001b[43margs\u001b[49m\u001b[43m,\u001b[49m\u001b[43m \u001b[49m\u001b[38;5;241;43m*\u001b[39;49m\u001b[38;5;241;43m*\u001b[39;49m\u001b[43mkwargs\u001b[49m\u001b[43m)\u001b[49m\n",
      "File \u001b[0;32m~/anaconda3/envs/embedSegGPU/lib/python3.12/site-packages/torch/optim/optimizer.py:385\u001b[0m, in \u001b[0;36mOptimizer.profile_hook_step.<locals>.wrapper\u001b[0;34m(*args, **kwargs)\u001b[0m\n\u001b[1;32m    380\u001b[0m         \u001b[38;5;28;01melse\u001b[39;00m:\n\u001b[1;32m    381\u001b[0m             \u001b[38;5;28;01mraise\u001b[39;00m \u001b[38;5;167;01mRuntimeError\u001b[39;00m(\n\u001b[1;32m    382\u001b[0m                 \u001b[38;5;124mf\u001b[39m\u001b[38;5;124m\"\u001b[39m\u001b[38;5;132;01m{\u001b[39;00mfunc\u001b[38;5;132;01m}\u001b[39;00m\u001b[38;5;124m must return None or a tuple of (new_args, new_kwargs), but got \u001b[39m\u001b[38;5;132;01m{\u001b[39;00mresult\u001b[38;5;132;01m}\u001b[39;00m\u001b[38;5;124m.\u001b[39m\u001b[38;5;124m\"\u001b[39m\n\u001b[1;32m    383\u001b[0m             )\n\u001b[0;32m--> 385\u001b[0m out \u001b[38;5;241m=\u001b[39m \u001b[43mfunc\u001b[49m\u001b[43m(\u001b[49m\u001b[38;5;241;43m*\u001b[39;49m\u001b[43margs\u001b[49m\u001b[43m,\u001b[49m\u001b[43m \u001b[49m\u001b[38;5;241;43m*\u001b[39;49m\u001b[38;5;241;43m*\u001b[39;49m\u001b[43mkwargs\u001b[49m\u001b[43m)\u001b[49m\n\u001b[1;32m    386\u001b[0m \u001b[38;5;28mself\u001b[39m\u001b[38;5;241m.\u001b[39m_optimizer_step_code()\n\u001b[1;32m    388\u001b[0m \u001b[38;5;66;03m# call optimizer step post hooks\u001b[39;00m\n",
      "File \u001b[0;32m~/anaconda3/envs/embedSegGPU/lib/python3.12/site-packages/torch/optim/optimizer.py:76\u001b[0m, in \u001b[0;36m_use_grad_for_differentiable.<locals>._use_grad\u001b[0;34m(self, *args, **kwargs)\u001b[0m\n\u001b[1;32m     74\u001b[0m     torch\u001b[38;5;241m.\u001b[39mset_grad_enabled(\u001b[38;5;28mself\u001b[39m\u001b[38;5;241m.\u001b[39mdefaults[\u001b[38;5;124m'\u001b[39m\u001b[38;5;124mdifferentiable\u001b[39m\u001b[38;5;124m'\u001b[39m])\n\u001b[1;32m     75\u001b[0m     torch\u001b[38;5;241m.\u001b[39m_dynamo\u001b[38;5;241m.\u001b[39mgraph_break()\n\u001b[0;32m---> 76\u001b[0m     ret \u001b[38;5;241m=\u001b[39m \u001b[43mfunc\u001b[49m\u001b[43m(\u001b[49m\u001b[38;5;28;43mself\u001b[39;49m\u001b[43m,\u001b[49m\u001b[43m \u001b[49m\u001b[38;5;241;43m*\u001b[39;49m\u001b[43margs\u001b[49m\u001b[43m,\u001b[49m\u001b[43m \u001b[49m\u001b[38;5;241;43m*\u001b[39;49m\u001b[38;5;241;43m*\u001b[39;49m\u001b[43mkwargs\u001b[49m\u001b[43m)\u001b[49m\n\u001b[1;32m     77\u001b[0m \u001b[38;5;28;01mfinally\u001b[39;00m:\n\u001b[1;32m     78\u001b[0m     torch\u001b[38;5;241m.\u001b[39m_dynamo\u001b[38;5;241m.\u001b[39mgraph_break()\n",
      "File \u001b[0;32m~/anaconda3/envs/embedSegGPU/lib/python3.12/site-packages/torch/optim/adam.py:166\u001b[0m, in \u001b[0;36mAdam.step\u001b[0;34m(self, closure)\u001b[0m\n\u001b[1;32m    155\u001b[0m     beta1, beta2 \u001b[38;5;241m=\u001b[39m group[\u001b[38;5;124m'\u001b[39m\u001b[38;5;124mbetas\u001b[39m\u001b[38;5;124m'\u001b[39m]\n\u001b[1;32m    157\u001b[0m     has_complex \u001b[38;5;241m=\u001b[39m \u001b[38;5;28mself\u001b[39m\u001b[38;5;241m.\u001b[39m_init_group(\n\u001b[1;32m    158\u001b[0m         group,\n\u001b[1;32m    159\u001b[0m         params_with_grad,\n\u001b[0;32m   (...)\u001b[0m\n\u001b[1;32m    163\u001b[0m         max_exp_avg_sqs,\n\u001b[1;32m    164\u001b[0m         state_steps)\n\u001b[0;32m--> 166\u001b[0m     \u001b[43madam\u001b[49m\u001b[43m(\u001b[49m\n\u001b[1;32m    167\u001b[0m \u001b[43m        \u001b[49m\u001b[43mparams_with_grad\u001b[49m\u001b[43m,\u001b[49m\n\u001b[1;32m    168\u001b[0m \u001b[43m        \u001b[49m\u001b[43mgrads\u001b[49m\u001b[43m,\u001b[49m\n\u001b[1;32m    169\u001b[0m \u001b[43m        \u001b[49m\u001b[43mexp_avgs\u001b[49m\u001b[43m,\u001b[49m\n\u001b[1;32m    170\u001b[0m \u001b[43m        \u001b[49m\u001b[43mexp_avg_sqs\u001b[49m\u001b[43m,\u001b[49m\n\u001b[1;32m    171\u001b[0m \u001b[43m        \u001b[49m\u001b[43mmax_exp_avg_sqs\u001b[49m\u001b[43m,\u001b[49m\n\u001b[1;32m    172\u001b[0m \u001b[43m        \u001b[49m\u001b[43mstate_steps\u001b[49m\u001b[43m,\u001b[49m\n\u001b[1;32m    173\u001b[0m \u001b[43m        \u001b[49m\u001b[43mamsgrad\u001b[49m\u001b[38;5;241;43m=\u001b[39;49m\u001b[43mgroup\u001b[49m\u001b[43m[\u001b[49m\u001b[38;5;124;43m'\u001b[39;49m\u001b[38;5;124;43mamsgrad\u001b[39;49m\u001b[38;5;124;43m'\u001b[39;49m\u001b[43m]\u001b[49m\u001b[43m,\u001b[49m\n\u001b[1;32m    174\u001b[0m \u001b[43m        \u001b[49m\u001b[43mhas_complex\u001b[49m\u001b[38;5;241;43m=\u001b[39;49m\u001b[43mhas_complex\u001b[49m\u001b[43m,\u001b[49m\n\u001b[1;32m    175\u001b[0m \u001b[43m        \u001b[49m\u001b[43mbeta1\u001b[49m\u001b[38;5;241;43m=\u001b[39;49m\u001b[43mbeta1\u001b[49m\u001b[43m,\u001b[49m\n\u001b[1;32m    176\u001b[0m \u001b[43m        \u001b[49m\u001b[43mbeta2\u001b[49m\u001b[38;5;241;43m=\u001b[39;49m\u001b[43mbeta2\u001b[49m\u001b[43m,\u001b[49m\n\u001b[1;32m    177\u001b[0m \u001b[43m        \u001b[49m\u001b[43mlr\u001b[49m\u001b[38;5;241;43m=\u001b[39;49m\u001b[43mgroup\u001b[49m\u001b[43m[\u001b[49m\u001b[38;5;124;43m'\u001b[39;49m\u001b[38;5;124;43mlr\u001b[39;49m\u001b[38;5;124;43m'\u001b[39;49m\u001b[43m]\u001b[49m\u001b[43m,\u001b[49m\n\u001b[1;32m    178\u001b[0m \u001b[43m        \u001b[49m\u001b[43mweight_decay\u001b[49m\u001b[38;5;241;43m=\u001b[39;49m\u001b[43mgroup\u001b[49m\u001b[43m[\u001b[49m\u001b[38;5;124;43m'\u001b[39;49m\u001b[38;5;124;43mweight_decay\u001b[39;49m\u001b[38;5;124;43m'\u001b[39;49m\u001b[43m]\u001b[49m\u001b[43m,\u001b[49m\n\u001b[1;32m    179\u001b[0m \u001b[43m        \u001b[49m\u001b[43meps\u001b[49m\u001b[38;5;241;43m=\u001b[39;49m\u001b[43mgroup\u001b[49m\u001b[43m[\u001b[49m\u001b[38;5;124;43m'\u001b[39;49m\u001b[38;5;124;43meps\u001b[39;49m\u001b[38;5;124;43m'\u001b[39;49m\u001b[43m]\u001b[49m\u001b[43m,\u001b[49m\n\u001b[1;32m    180\u001b[0m \u001b[43m        \u001b[49m\u001b[43mmaximize\u001b[49m\u001b[38;5;241;43m=\u001b[39;49m\u001b[43mgroup\u001b[49m\u001b[43m[\u001b[49m\u001b[38;5;124;43m'\u001b[39;49m\u001b[38;5;124;43mmaximize\u001b[39;49m\u001b[38;5;124;43m'\u001b[39;49m\u001b[43m]\u001b[49m\u001b[43m,\u001b[49m\n\u001b[1;32m    181\u001b[0m \u001b[43m        \u001b[49m\u001b[43mforeach\u001b[49m\u001b[38;5;241;43m=\u001b[39;49m\u001b[43mgroup\u001b[49m\u001b[43m[\u001b[49m\u001b[38;5;124;43m'\u001b[39;49m\u001b[38;5;124;43mforeach\u001b[39;49m\u001b[38;5;124;43m'\u001b[39;49m\u001b[43m]\u001b[49m\u001b[43m,\u001b[49m\n\u001b[1;32m    182\u001b[0m \u001b[43m        \u001b[49m\u001b[43mcapturable\u001b[49m\u001b[38;5;241;43m=\u001b[39;49m\u001b[43mgroup\u001b[49m\u001b[43m[\u001b[49m\u001b[38;5;124;43m'\u001b[39;49m\u001b[38;5;124;43mcapturable\u001b[39;49m\u001b[38;5;124;43m'\u001b[39;49m\u001b[43m]\u001b[49m\u001b[43m,\u001b[49m\n\u001b[1;32m    183\u001b[0m \u001b[43m        \u001b[49m\u001b[43mdifferentiable\u001b[49m\u001b[38;5;241;43m=\u001b[39;49m\u001b[43mgroup\u001b[49m\u001b[43m[\u001b[49m\u001b[38;5;124;43m'\u001b[39;49m\u001b[38;5;124;43mdifferentiable\u001b[39;49m\u001b[38;5;124;43m'\u001b[39;49m\u001b[43m]\u001b[49m\u001b[43m,\u001b[49m\n\u001b[1;32m    184\u001b[0m \u001b[43m        \u001b[49m\u001b[43mfused\u001b[49m\u001b[38;5;241;43m=\u001b[39;49m\u001b[43mgroup\u001b[49m\u001b[43m[\u001b[49m\u001b[38;5;124;43m'\u001b[39;49m\u001b[38;5;124;43mfused\u001b[39;49m\u001b[38;5;124;43m'\u001b[39;49m\u001b[43m]\u001b[49m\u001b[43m,\u001b[49m\n\u001b[1;32m    185\u001b[0m \u001b[43m        \u001b[49m\u001b[43mgrad_scale\u001b[49m\u001b[38;5;241;43m=\u001b[39;49m\u001b[38;5;28;43mgetattr\u001b[39;49m\u001b[43m(\u001b[49m\u001b[38;5;28;43mself\u001b[39;49m\u001b[43m,\u001b[49m\u001b[43m \u001b[49m\u001b[38;5;124;43m\"\u001b[39;49m\u001b[38;5;124;43mgrad_scale\u001b[39;49m\u001b[38;5;124;43m\"\u001b[39;49m\u001b[43m,\u001b[49m\u001b[43m \u001b[49m\u001b[38;5;28;43;01mNone\u001b[39;49;00m\u001b[43m)\u001b[49m\u001b[43m,\u001b[49m\n\u001b[1;32m    186\u001b[0m \u001b[43m        \u001b[49m\u001b[43mfound_inf\u001b[49m\u001b[38;5;241;43m=\u001b[39;49m\u001b[38;5;28;43mgetattr\u001b[39;49m\u001b[43m(\u001b[49m\u001b[38;5;28;43mself\u001b[39;49m\u001b[43m,\u001b[49m\u001b[43m \u001b[49m\u001b[38;5;124;43m\"\u001b[39;49m\u001b[38;5;124;43mfound_inf\u001b[39;49m\u001b[38;5;124;43m\"\u001b[39;49m\u001b[43m,\u001b[49m\u001b[43m \u001b[49m\u001b[38;5;28;43;01mNone\u001b[39;49;00m\u001b[43m)\u001b[49m\u001b[43m,\u001b[49m\n\u001b[1;32m    187\u001b[0m \u001b[43m    \u001b[49m\u001b[43m)\u001b[49m\n\u001b[1;32m    189\u001b[0m \u001b[38;5;28;01mreturn\u001b[39;00m loss\n",
      "File \u001b[0;32m~/anaconda3/envs/embedSegGPU/lib/python3.12/site-packages/torch/optim/adam.py:316\u001b[0m, in \u001b[0;36madam\u001b[0;34m(params, grads, exp_avgs, exp_avg_sqs, max_exp_avg_sqs, state_steps, foreach, capturable, differentiable, fused, grad_scale, found_inf, has_complex, amsgrad, beta1, beta2, lr, weight_decay, eps, maximize)\u001b[0m\n\u001b[1;32m    313\u001b[0m \u001b[38;5;28;01melse\u001b[39;00m:\n\u001b[1;32m    314\u001b[0m     func \u001b[38;5;241m=\u001b[39m _single_tensor_adam\n\u001b[0;32m--> 316\u001b[0m \u001b[43mfunc\u001b[49m\u001b[43m(\u001b[49m\u001b[43mparams\u001b[49m\u001b[43m,\u001b[49m\n\u001b[1;32m    317\u001b[0m \u001b[43m     \u001b[49m\u001b[43mgrads\u001b[49m\u001b[43m,\u001b[49m\n\u001b[1;32m    318\u001b[0m \u001b[43m     \u001b[49m\u001b[43mexp_avgs\u001b[49m\u001b[43m,\u001b[49m\n\u001b[1;32m    319\u001b[0m \u001b[43m     \u001b[49m\u001b[43mexp_avg_sqs\u001b[49m\u001b[43m,\u001b[49m\n\u001b[1;32m    320\u001b[0m \u001b[43m     \u001b[49m\u001b[43mmax_exp_avg_sqs\u001b[49m\u001b[43m,\u001b[49m\n\u001b[1;32m    321\u001b[0m \u001b[43m     \u001b[49m\u001b[43mstate_steps\u001b[49m\u001b[43m,\u001b[49m\n\u001b[1;32m    322\u001b[0m \u001b[43m     \u001b[49m\u001b[43mamsgrad\u001b[49m\u001b[38;5;241;43m=\u001b[39;49m\u001b[43mamsgrad\u001b[49m\u001b[43m,\u001b[49m\n\u001b[1;32m    323\u001b[0m \u001b[43m     \u001b[49m\u001b[43mhas_complex\u001b[49m\u001b[38;5;241;43m=\u001b[39;49m\u001b[43mhas_complex\u001b[49m\u001b[43m,\u001b[49m\n\u001b[1;32m    324\u001b[0m \u001b[43m     \u001b[49m\u001b[43mbeta1\u001b[49m\u001b[38;5;241;43m=\u001b[39;49m\u001b[43mbeta1\u001b[49m\u001b[43m,\u001b[49m\n\u001b[1;32m    325\u001b[0m \u001b[43m     \u001b[49m\u001b[43mbeta2\u001b[49m\u001b[38;5;241;43m=\u001b[39;49m\u001b[43mbeta2\u001b[49m\u001b[43m,\u001b[49m\n\u001b[1;32m    326\u001b[0m \u001b[43m     \u001b[49m\u001b[43mlr\u001b[49m\u001b[38;5;241;43m=\u001b[39;49m\u001b[43mlr\u001b[49m\u001b[43m,\u001b[49m\n\u001b[1;32m    327\u001b[0m \u001b[43m     \u001b[49m\u001b[43mweight_decay\u001b[49m\u001b[38;5;241;43m=\u001b[39;49m\u001b[43mweight_decay\u001b[49m\u001b[43m,\u001b[49m\n\u001b[1;32m    328\u001b[0m \u001b[43m     \u001b[49m\u001b[43meps\u001b[49m\u001b[38;5;241;43m=\u001b[39;49m\u001b[43meps\u001b[49m\u001b[43m,\u001b[49m\n\u001b[1;32m    329\u001b[0m \u001b[43m     \u001b[49m\u001b[43mmaximize\u001b[49m\u001b[38;5;241;43m=\u001b[39;49m\u001b[43mmaximize\u001b[49m\u001b[43m,\u001b[49m\n\u001b[1;32m    330\u001b[0m \u001b[43m     \u001b[49m\u001b[43mcapturable\u001b[49m\u001b[38;5;241;43m=\u001b[39;49m\u001b[43mcapturable\u001b[49m\u001b[43m,\u001b[49m\n\u001b[1;32m    331\u001b[0m \u001b[43m     \u001b[49m\u001b[43mdifferentiable\u001b[49m\u001b[38;5;241;43m=\u001b[39;49m\u001b[43mdifferentiable\u001b[49m\u001b[43m,\u001b[49m\n\u001b[1;32m    332\u001b[0m \u001b[43m     \u001b[49m\u001b[43mgrad_scale\u001b[49m\u001b[38;5;241;43m=\u001b[39;49m\u001b[43mgrad_scale\u001b[49m\u001b[43m,\u001b[49m\n\u001b[1;32m    333\u001b[0m \u001b[43m     \u001b[49m\u001b[43mfound_inf\u001b[49m\u001b[38;5;241;43m=\u001b[39;49m\u001b[43mfound_inf\u001b[49m\u001b[43m)\u001b[49m\n",
      "File \u001b[0;32m~/anaconda3/envs/embedSegGPU/lib/python3.12/site-packages/torch/optim/adam.py:583\u001b[0m, in \u001b[0;36m_multi_tensor_adam\u001b[0;34m(params, grads, exp_avgs, exp_avg_sqs, max_exp_avg_sqs, state_steps, grad_scale, found_inf, amsgrad, has_complex, beta1, beta2, lr, weight_decay, eps, maximize, capturable, differentiable)\u001b[0m\n\u001b[1;32m    581\u001b[0m torch\u001b[38;5;241m.\u001b[39m_foreach_div_(exp_avg_sq_sqrt, bias_correction2_sqrt)\n\u001b[1;32m    582\u001b[0m torch\u001b[38;5;241m.\u001b[39m_foreach_add_(exp_avg_sq_sqrt, eps)\n\u001b[0;32m--> 583\u001b[0m \u001b[43mtorch\u001b[49m\u001b[38;5;241;43m.\u001b[39;49m\u001b[43m_foreach_addcdiv_\u001b[49m\u001b[43m(\u001b[49m\u001b[43mdevice_params\u001b[49m\u001b[43m,\u001b[49m\u001b[43m \u001b[49m\u001b[43mdevice_exp_avgs\u001b[49m\u001b[43m,\u001b[49m\u001b[43m \u001b[49m\u001b[43mexp_avg_sq_sqrt\u001b[49m\u001b[43m,\u001b[49m\u001b[43m \u001b[49m\u001b[43mstep_size\u001b[49m\u001b[43m)\u001b[49m\n",
      "\u001b[0;31mRuntimeError\u001b[0m: value cannot be converted to type float without overflow"
     ]
    }
   ],
   "source": [
    "begin_training(train_dataset_dict, val_dataset_dict, model_dict, loss_dict, configs)"
   ]
  },
  {
   "cell_type": "markdown",
   "metadata": {},
   "source": [
    "<div class=\"alert alert-block alert-warning\"> \n",
    "  Common causes for errors during training, may include : <br>\n",
    "    1. Not having <b>center images</b> for  <b>both</b> train and val directories  <br>\n",
    "    2. <b>Mismatch</b> between type of center-images saved in <b>01-data.ipynb</b> and the type of center chosen in this notebook (see the <b><a href=\"#center\"> center</a></b> parameter in the third code cell in this notebook)   <br>\n",
    "    3. In case of resuming training from a previous checkpoint, please ensure that the model weights are read from the correct directory, using the <b><a href=\"#resume\"> resume_path</a></b> parameter. Additionally, please ensure that the <b>save_dir</b> parameter for saving the model weights points to a relevant directory. \n",
    "</div>"
   ]
  }
 ],
 "metadata": {
  "kernelspec": {
   "display_name": "EmbedSeg",
   "language": "python",
   "name": "python3"
  },
  "language_info": {
   "codemirror_mode": {
    "name": "ipython",
    "version": 3
   },
   "file_extension": ".py",
   "mimetype": "text/x-python",
   "name": "python",
   "nbconvert_exporter": "python",
   "pygments_lexer": "ipython3",
   "version": "3.12.3"
  },
  "toc": {
   "base_numbering": 1,
   "nav_menu": {},
   "number_sections": true,
   "sideBar": false,
   "skip_h1_title": false,
   "title_cell": "Table of Contents",
   "title_sidebar": "Contents",
   "toc_cell": false,
   "toc_position": {},
   "toc_section_display": true,
   "toc_window_display": false
  }
 },
 "nbformat": 4,
 "nbformat_minor": 4
}
