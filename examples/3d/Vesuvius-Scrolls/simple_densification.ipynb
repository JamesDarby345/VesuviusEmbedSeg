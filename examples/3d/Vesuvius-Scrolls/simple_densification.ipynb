{
 "cells": [
  {
   "cell_type": "code",
   "execution_count": 34,
   "metadata": {},
   "outputs": [],
   "source": [
    "import nrrd\n",
    "import numpy as np\n",
    "import os\n",
    "import matplotlib.pyplot as plt\n",
    "from ipywidgets import interact, IntSlider\n",
    "from skimage.segmentation import mark_boundaries\n",
    "import cv2\n",
    "import argparse\n",
    "from numba import jit\n",
    "from scipy import ndimage as ndi\n",
    "\n",
    "mask_path = \"/Users/jamesdarby/Documents/VesuviusScroll/GP/EmbedSegScrolls/manually_labelled_cubes/test/instances/layers_1.nrrd\"\n",
    "raw_data_path = \"/Users/jamesdarby/Documents/VesuviusScroll/GP/EmbedSegScrolls/manually_labelled_cubes/test/volumes/slices_1.nrrd\"\n",
    "\n",
    "mask_data, mask_header = nrrd.read(mask_path)\n",
    "raw_data, raw_header = nrrd.read(raw_data_path)"
   ]
  },
  {
   "cell_type": "code",
   "execution_count": 36,
   "metadata": {},
   "outputs": [],
   "source": [
    "#helper functions: TODO move to separate file\n",
    "import numpy as np\n",
    "from skimage.color import gray2rgb, label2rgb\n",
    "from skimage.segmentation import find_boundaries\n",
    "from skimage.util import img_as_float\n",
    "from skimage.morphology import dilation, square\n",
    "import random\n",
    "\n",
    "def mark_boundaries_color(image, label_img, color=None, outline_color=None, mode='outer', background_label=0, dilation_size=1):\n",
    "    \"\"\"Return image with boundaries between labeled regions highlighted with consistent colors derived from labels.\n",
    "\n",
    "    Parameters:\n",
    "    - image: Input image.\n",
    "    - label_img: Image with labeled regions.\n",
    "    - color: Ignored in this version.\n",
    "    - outline_color: If specified, use this color for the outline. Otherwise, use the same as boundary.\n",
    "    - mode: Choose 'inner', 'outer', or 'thick' to define boundary type.\n",
    "    - background_label: Label to be treated as the background.\n",
    "    - dilation_size: Size of the dilation square for the boundaries.\n",
    "\n",
    "    Returns:\n",
    "    - Image with boundaries highlighted.\n",
    "    \"\"\"\n",
    "    # Ensure input image is in float and has three channels\n",
    "    float_dtype = np.float32  # Use float32 for efficiency\n",
    "    marked = img_as_float(image, force_copy=True).astype(float_dtype, copy=False)\n",
    "    if marked.ndim == 2:\n",
    "        marked = gray2rgb(marked)\n",
    "\n",
    "    # Create a color map normalized by the number of unique labels\n",
    "    unique_labels = np.unique(label_img)\n",
    "    color_map = plt.get_cmap('nipy_spectral')  # You can change 'nipy_spectral' to any other colormap\n",
    "\n",
    "    # Find boundaries and apply colors\n",
    "    boundaries = find_boundaries(label_img, mode=mode, background=background_label)\n",
    "    for label in unique_labels:\n",
    "        if label == background_label:\n",
    "            continue\n",
    "        # Normalize label value to the range of the colormap\n",
    "        normalized_color = color_map(label / np.max(unique_labels))[:3]  # Get RGB values only\n",
    "        label_boundaries = find_boundaries(label_img == label, mode=mode)\n",
    "        label_boundaries = dilation(label_boundaries, square(dilation_size))\n",
    "        marked[label_boundaries] = normalized_color\n",
    "        if outline_color is not None:\n",
    "            outlines = dilation(label_boundaries, square(dilation_size + 1))\n",
    "            marked[outlines] = outline_color\n",
    "        else:\n",
    "            marked[label_boundaries] = normalized_color\n",
    "\n",
    "    return marked\n",
    "\n",
    "def mark_boundaries_multicolor(image, label_img, color=None, outline_color=None, mode='outer', background_label=0, dilation_size=1):\n",
    "    \"\"\"Return image with boundaries between labeled regions highlighted with consistent colors.\n",
    "\n",
    "    Parameters are the same as in the original function but color is ignored if provided.\n",
    "    \"\"\"\n",
    "    # Ensure input image is in float and has three channels\n",
    "    float_dtype = np.float32  # Use float32 for efficiency\n",
    "    marked = img_as_float(image, force_copy=True).astype(float_dtype, copy=False)\n",
    "    if marked.ndim == 2:\n",
    "        marked = gray2rgb(marked)\n",
    "\n",
    "    # Generate consistent colors for each unique label in label_img\n",
    "    unique_labels = np.unique(label_img)\n",
    "    color_map = {label: consistent_color(label) for label in unique_labels if label != background_label}\n",
    "\n",
    "    # Find boundaries and apply colors\n",
    "    boundaries = find_boundaries(label_img, mode=mode, background=background_label)\n",
    "    for label, color in color_map.items():\n",
    "        label_boundaries = find_boundaries(label_img == label, mode=mode)\n",
    "        label_boundaries = dilation(label_boundaries, square(dilation_size))\n",
    "        if outline_color is not None:\n",
    "            outlines = dilation(label_boundaries, square(dilation_size))\n",
    "            marked[outlines] = outline_color\n",
    "        marked[label_boundaries] = color\n",
    "\n",
    "    return marked\n"
   ]
  },
  {
   "cell_type": "code",
   "execution_count": 37,
   "metadata": {},
   "outputs": [
    {
     "data": {
      "application/vnd.jupyter.widget-view+json": {
       "model_id": "500f1540b83a47d3b5cdb26cb82cc5ae",
       "version_major": 2,
       "version_minor": 0
      },
      "text/plain": [
       "interactive(children=(IntSlider(value=0, description='slice_index', max=255), IntSlider(value=0, description='…"
      ]
     },
     "metadata": {},
     "output_type": "display_data"
    },
    {
     "data": {
      "text/plain": [
       "<function __main__.plot_slice(slice_index, axis=0)>"
      ]
     },
     "execution_count": 37,
     "metadata": {},
     "output_type": "execute_result"
    }
   ],
   "source": [
    "def plot_slice(slice_index, axis=0):\n",
    "    plt.figure(figsize=(8, 6))\n",
    "    if axis == 1:\n",
    "        plt.imshow(mark_boundaries_color(raw_data[:,slice_index,:], mask_data[:,slice_index,:]))\n",
    "    elif axis == 2:\n",
    "        plt.imshow(mark_boundaries_color(raw_data[:,:,slice_index], mask_data[:,:,slice_index]))\n",
    "    else:\n",
    "        plt.imshow(mark_boundaries_color(raw_data[slice_index,:,:], mask_data[slice_index,:,:]))\n",
    "    plt.colorbar()\n",
    "    plt.title(f'Slice {slice_index}')\n",
    "    plt.show()\n",
    "\n",
    "# Create a slider to browse through slices\n",
    "interact(plot_slice, slice_index=IntSlider(min=0, max=mask_data.shape[0]-1, step=1, value=0), axis=IntSlider(min=0, max=2, step=1, value=0))"
   ]
  },
  {
   "cell_type": "markdown",
   "metadata": {},
   "source": [
    "1. from left to right find all the first background pixels, then remove them, then the second etc until a full background pass cannot be made\n",
    "2. Do this on all 3 axis."
   ]
  },
  {
   "cell_type": "code",
   "execution_count": 18,
   "metadata": {},
   "outputs": [],
   "source": [
    "import numpy as np\n",
    "\n",
    "def deep_shrink_array(array, axis):\n",
    "    \"\"\"\n",
    "    Iteratively shrinks a 3D array along a given axis by removing layers that have reached\n",
    "    their first background voxel for each perpendicular position. The iteration stops when\n",
    "    no further background voxels can be removed without affecting non-background voxels.\n",
    "\n",
    "    :param array: 3D numpy array\n",
    "    :param axis: Axis along which to shrink the array (0, 1, or 2)\n",
    "    :return: The deeply shrunk 3D array\n",
    "    \"\"\"\n",
    "    depth = array.shape[axis]\n",
    "    current_index = np.zeros(array.shape[:axis] + array.shape[axis+1:], dtype=int)\n",
    "\n",
    "    while True:\n",
    "        change_occurred = False\n",
    "        # Determine if the current indexed slice for each position is a background voxel\n",
    "        for idx in np.ndindex(current_index.shape):\n",
    "            full_idx = idx[:axis] + (current_index[idx],) + idx[axis:]\n",
    "            if full_idx[axis] < depth and array[full_idx] == 0:\n",
    "                current_index[idx] += 1\n",
    "                change_occurred = True\n",
    "            elif full_idx[axis] >= depth:\n",
    "                # This position has already reached beyond the array bounds\n",
    "                continue\n",
    "\n",
    "        # Exit the loop if no more changes have occurred\n",
    "        if not change_occurred:\n",
    "            break\n",
    "\n",
    "    # Construct a mask for removing slices\n",
    "    max_removal_depth = np.min(current_index)\n",
    "    if max_removal_depth > 0:\n",
    "        if axis == 0:\n",
    "            array = array[max_removal_depth:, :, :]\n",
    "        elif axis == 1:\n",
    "            array = array[:, max_removal_depth:, :]\n",
    "        else:\n",
    "            array = array[:, :, max_removal_depth:]\n",
    "\n",
    "    return array\n",
    "\n",
    "            "
   ]
  },
  {
   "cell_type": "code",
   "execution_count": 29,
   "metadata": {},
   "outputs": [],
   "source": [
    "def shrink_one_layer(array, axis):\n",
    "    \"\"\"\n",
    "    Shrinks a 3D array along a given axis by removing the first background voxel encountered\n",
    "    for each position perpendicular to the specified axis, reducing the size by one along\n",
    "    that axis.\n",
    "\n",
    "    :param array: 3D numpy array\n",
    "    :param axis: Axis along which to shrink the array (0, 1, or 2)\n",
    "    :return: The shrunken 3D array\n",
    "    \"\"\"\n",
    "    shape = list(array.shape)\n",
    "    new_depth = shape[axis] - 1\n",
    "    if new_depth <= 0:\n",
    "        return np.empty((0, *shape[1:]), dtype=array.dtype)  # Avoid negative dimensions\n",
    "\n",
    "    # Initialize a new array with one less in the specified axis\n",
    "    new_shape = shape[:]\n",
    "    new_shape[axis] = new_depth\n",
    "    new_array = np.empty(new_shape, dtype=array.dtype)\n",
    "\n",
    "    # Copy data into new array, skipping the first background voxel for each perpendicular position\n",
    "    for idx in np.ndindex(tuple(shape[i] for i in range(len(shape)) if i != axis)):\n",
    "        if axis == 0:\n",
    "            line = array[:, idx[0], idx[1]]\n",
    "        elif axis == 1:\n",
    "            line = array[idx[0], :, idx[1]]\n",
    "        else:\n",
    "            line = array[idx[0], idx[1], :]\n",
    "\n",
    "        # Find first background voxel\n",
    "        first_background = np.argmax(line == 0)\n",
    "        if line[first_background] == 0:  # Ensure it is actually background\n",
    "            # Create a new line without the first background voxel\n",
    "            new_line = np.concatenate([line[:first_background], line[first_background+1:]])\n",
    "            if new_line.shape[0] < new_depth:  # If no background found, copy original\n",
    "                new_line = line[:new_depth]\n",
    "        else:\n",
    "            new_line = line[:new_depth]  # If no background found, just truncate\n",
    "\n",
    "        if axis == 0:\n",
    "            new_array[:, idx[0], idx[1]] = new_line\n",
    "        elif axis == 1:\n",
    "            new_array[idx[0], :, idx[1]] = new_line\n",
    "        else:\n",
    "            new_array[idx[0], idx[1], :] = new_line\n",
    "\n",
    "    return new_array"
   ]
  },
  {
   "cell_type": "code",
   "execution_count": 51,
   "metadata": {},
   "outputs": [],
   "source": [
    "def dual_shrink_one_layer(data_array, control_array, axis):\n",
    "    \"\"\"\n",
    "    Shrinks two 3D arrays along a given axis by removing the first background voxel (value == 0)\n",
    "    encountered in the control_array for each position perpendicular to the specified axis,\n",
    "    reducing the size by one along that axis for both arrays.\n",
    "\n",
    "    :param data_array: 3D numpy array to be modified according to control_array\n",
    "    :param control_array: 3D numpy array used to determine the voxel removal\n",
    "    :param axis: Axis along which to shrink the arrays (0, 1, or 2)\n",
    "    :return: A tuple of the two shrunken 3D arrays\n",
    "    \"\"\"\n",
    "    shape = list(control_array.shape)\n",
    "    new_depth = shape[axis] - 1\n",
    "    if new_depth <= 0:\n",
    "        return (np.empty((0, *shape[1:]), dtype=data_array.dtype), \n",
    "                np.empty((0, *shape[1:]), dtype=control_array.dtype))  # Avoid negative dimensions\n",
    "\n",
    "    # Initialize new arrays with one less in the specified axis\n",
    "    new_shape = shape[:]\n",
    "    new_shape[axis] = new_depth\n",
    "    new_data_array = np.empty(new_shape, dtype=data_array.dtype)\n",
    "    new_control_array = np.empty(new_shape, dtype=control_array.dtype)\n",
    "\n",
    "    # Copy data into new arrays, skipping the first background voxel for each perpendicular position\n",
    "    for idx in np.ndindex(tuple(shape[i] for i in range(len(shape)) if i != axis)):\n",
    "        if axis == 0:\n",
    "            control_line = control_array[:, idx[0], idx[1]]\n",
    "            data_line = data_array[:, idx[0], idx[1]]\n",
    "        elif axis == 1:\n",
    "            control_line = control_array[idx[0], :, idx[1]]\n",
    "            data_line = data_array[idx[0], :, idx[1]]\n",
    "        else:\n",
    "            control_line = control_array[idx[0], idx[1], :]\n",
    "            data_line = data_array[idx[0], idx[1], :]\n",
    "\n",
    "        # Find first background voxel in the control line\n",
    "        first_background = np.argmax(control_line == 0)\n",
    "        if control_line[first_background] == 0:  # Ensure it is actually background\n",
    "            # Create new lines without the first background voxel\n",
    "            new_control_line = np.concatenate([control_line[:first_background], control_line[first_background+1:]])\n",
    "            new_data_line = np.concatenate([data_line[:first_background], data_line[first_background+1:]])\n",
    "            if new_control_line.shape[0] < new_depth:  # If no background found, copy original\n",
    "                new_control_line = control_line[:new_depth]\n",
    "                new_data_line = data_line[:new_depth]\n",
    "        else:\n",
    "            new_control_line = control_line[:new_depth]  # If no background found, just truncate\n",
    "            new_data_line = data_line[:new_depth]\n",
    "\n",
    "        if axis == 0:\n",
    "            new_control_array[:, idx[0], idx[1]] = new_control_line\n",
    "            new_data_array[:, idx[0], idx[1]] = new_data_line\n",
    "        elif axis == 1:\n",
    "            new_control_array[idx[0], :, idx[1]] = new_control_line\n",
    "            new_data_array[idx[0], :, idx[1]] = new_data_line\n",
    "        else:\n",
    "            new_control_array[idx[0], idx[1], :] = new_control_line\n",
    "            new_data_array[idx[0], idx[1], :] = new_data_line\n",
    "\n",
    "    return new_data_array, new_control_array"
   ]
  },
  {
   "cell_type": "code",
   "execution_count": 67,
   "metadata": {},
   "outputs": [
    {
     "name": "stdout",
     "output_type": "stream",
     "text": [
      "(256, 256, 255)\n"
     ]
    }
   ],
   "source": [
    "rd, ts = dual_shrink_one_layer(raw_data, mask_data, 2)\n",
    "print(ts.shape)"
   ]
  },
  {
   "cell_type": "code",
   "execution_count": 68,
   "metadata": {},
   "outputs": [],
   "source": [
    "for i in range(100):\n",
    "    # ts = shrink_one_layer(ts, 1)\n",
    "    # ts = shrink_one_layer(ts, 2)\n",
    "    rd, ts = dual_shrink_one_layer(rd, ts, 1)\n",
    "    rd, ts = dual_shrink_one_layer(rd, ts, 2)"
   ]
  },
  {
   "cell_type": "code",
   "execution_count": 69,
   "metadata": {},
   "outputs": [
    {
     "data": {
      "application/vnd.jupyter.widget-view+json": {
       "model_id": "27ad45eade5e4a65a360dacfb095198b",
       "version_major": 2,
       "version_minor": 0
      },
      "text/plain": [
       "interactive(children=(IntSlider(value=0, description='slice_index', max=255), IntSlider(value=0, description='…"
      ]
     },
     "metadata": {},
     "output_type": "display_data"
    },
    {
     "data": {
      "text/plain": [
       "<function __main__.plot_slice(slice_index, axis=0)>"
      ]
     },
     "execution_count": 69,
     "metadata": {},
     "output_type": "execute_result"
    }
   ],
   "source": [
    "def plot_slice(slice_index, axis=0):\n",
    "    plt.figure(figsize=(8, 6))\n",
    "    if axis == 1:\n",
    "        plt.imshow(rd[:,slice_index,:],cmap='gray')\n",
    "    elif axis == 2:\n",
    "        plt.imshow(rd[:,:,slice_index],cmap='gray')\n",
    "    else:\n",
    "        plt.imshow(rd[slice_index,:,:],cmap='gray')\n",
    "    plt.colorbar()\n",
    "    plt.title(f'Slice {slice_index}')\n",
    "    plt.show()\n",
    "\n",
    "# Create a slider to browse through slices\n",
    "interact(plot_slice, slice_index=IntSlider(min=0, max=ts.shape[0]-1, step=1, value=0), axis=IntSlider(min=0, max=2, step=1, value=0))"
   ]
  },
  {
   "cell_type": "code",
   "execution_count": 70,
   "metadata": {},
   "outputs": [
    {
     "data": {
      "application/vnd.jupyter.widget-view+json": {
       "model_id": "de4e4872bb8e42bba55c0ae40b63e5de",
       "version_major": 2,
       "version_minor": 0
      },
      "text/plain": [
       "interactive(children=(IntSlider(value=0, description='slice_index', max=255), IntSlider(value=0, description='…"
      ]
     },
     "metadata": {},
     "output_type": "display_data"
    },
    {
     "data": {
      "text/plain": [
       "<function __main__.plot_slice(slice_index, axis=0)>"
      ]
     },
     "execution_count": 70,
     "metadata": {},
     "output_type": "execute_result"
    }
   ],
   "source": [
    "def plot_slice(slice_index, axis=0):\n",
    "    plt.figure(figsize=(8, 6))\n",
    "    if axis == 1:\n",
    "        plt.imshow(ts[:,slice_index,:])\n",
    "    elif axis == 2:\n",
    "        plt.imshow(ts[:,:,slice_index])\n",
    "    else:\n",
    "        plt.imshow(ts[slice_index,:,:])\n",
    "    plt.colorbar()\n",
    "    plt.title(f'Slice {slice_index}')\n",
    "    plt.show()\n",
    "\n",
    "# Create a slider to browse through slices\n",
    "interact(plot_slice, slice_index=IntSlider(min=0, max=ts.shape[0]-1, step=1, value=0), axis=IntSlider(min=0, max=2, step=1, value=0))"
   ]
  }
 ],
 "metadata": {
  "kernelspec": {
   "display_name": "embedSegGraphPy11",
   "language": "python",
   "name": "python3"
  },
  "language_info": {
   "codemirror_mode": {
    "name": "ipython",
    "version": 3
   },
   "file_extension": ".py",
   "mimetype": "text/x-python",
   "name": "python",
   "nbconvert_exporter": "python",
   "pygments_lexer": "ipython3",
   "version": "3.11.9"
  }
 },
 "nbformat": 4,
 "nbformat_minor": 2
}
